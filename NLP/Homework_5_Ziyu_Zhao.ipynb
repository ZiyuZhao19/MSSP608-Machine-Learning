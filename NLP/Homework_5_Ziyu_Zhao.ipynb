{
  "nbformat": 4,
  "nbformat_minor": 0,
  "metadata": {
    "colab": {
      "name": "Homework_5_Ziyu_Zhao",
      "provenance": [],
      "collapsed_sections": []
    },
    "kernelspec": {
      "name": "python3",
      "display_name": "Python 3"
    }
  },
  "cells": [
    {
      "cell_type": "code",
      "metadata": {
        "id": "ocUmsk0nQdgg",
        "colab_type": "code",
        "outputId": "733093b1-7033-44c9-e7d0-7b9d1b1519f4",
        "colab": {
          "base_uri": "https://localhost:8080/",
          "height": 530
        }
      },
      "source": [
        "!pip3 install https://github.com/explosion/spacy-models/releases/download/en_core_web_md-2.2.0/en_core_web_md-2.2.0.tar.gz"
      ],
      "execution_count": 1,
      "outputs": [
        {
          "output_type": "stream",
          "text": [
            "Collecting https://github.com/explosion/spacy-models/releases/download/en_core_web_md-2.2.0/en_core_web_md-2.2.0.tar.gz\n",
            "\u001b[?25l  Downloading https://github.com/explosion/spacy-models/releases/download/en_core_web_md-2.2.0/en_core_web_md-2.2.0.tar.gz (96.4MB)\n",
            "\u001b[K     |████████████████████████████████| 96.4MB 71kB/s \n",
            "\u001b[?25hRequirement already satisfied (use --upgrade to upgrade): en-core-web-md==2.2.0 from https://github.com/explosion/spacy-models/releases/download/en_core_web_md-2.2.0/en_core_web_md-2.2.0.tar.gz in /usr/local/lib/python3.6/dist-packages\n",
            "Requirement already satisfied: spacy>=2.2.0 in /usr/local/lib/python3.6/dist-packages (from en-core-web-md==2.2.0) (2.2.3)\n",
            "Requirement already satisfied: numpy>=1.15.0 in /usr/local/lib/python3.6/dist-packages (from spacy>=2.2.0->en-core-web-md==2.2.0) (1.17.5)\n",
            "Requirement already satisfied: cymem<2.1.0,>=2.0.2 in /usr/local/lib/python3.6/dist-packages (from spacy>=2.2.0->en-core-web-md==2.2.0) (2.0.3)\n",
            "Requirement already satisfied: srsly<1.1.0,>=0.1.0 in /usr/local/lib/python3.6/dist-packages (from spacy>=2.2.0->en-core-web-md==2.2.0) (1.0.1)\n",
            "Requirement already satisfied: murmurhash<1.1.0,>=0.28.0 in /usr/local/lib/python3.6/dist-packages (from spacy>=2.2.0->en-core-web-md==2.2.0) (1.0.2)\n",
            "Requirement already satisfied: catalogue<1.1.0,>=0.0.7 in /usr/local/lib/python3.6/dist-packages (from spacy>=2.2.0->en-core-web-md==2.2.0) (1.0.0)\n",
            "Requirement already satisfied: requests<3.0.0,>=2.13.0 in /usr/local/lib/python3.6/dist-packages (from spacy>=2.2.0->en-core-web-md==2.2.0) (2.21.0)\n",
            "Requirement already satisfied: blis<0.5.0,>=0.4.0 in /usr/local/lib/python3.6/dist-packages (from spacy>=2.2.0->en-core-web-md==2.2.0) (0.4.1)\n",
            "Requirement already satisfied: preshed<3.1.0,>=3.0.2 in /usr/local/lib/python3.6/dist-packages (from spacy>=2.2.0->en-core-web-md==2.2.0) (3.0.2)\n",
            "Requirement already satisfied: setuptools in /usr/local/lib/python3.6/dist-packages (from spacy>=2.2.0->en-core-web-md==2.2.0) (45.2.0)\n",
            "Requirement already satisfied: plac<1.2.0,>=0.9.6 in /usr/local/lib/python3.6/dist-packages (from spacy>=2.2.0->en-core-web-md==2.2.0) (0.9.6)\n",
            "Requirement already satisfied: thinc<7.4.0,>=7.3.0 in /usr/local/lib/python3.6/dist-packages (from spacy>=2.2.0->en-core-web-md==2.2.0) (7.3.1)\n",
            "Requirement already satisfied: wasabi<1.1.0,>=0.4.0 in /usr/local/lib/python3.6/dist-packages (from spacy>=2.2.0->en-core-web-md==2.2.0) (0.6.0)\n",
            "Requirement already satisfied: importlib-metadata>=0.20; python_version < \"3.8\" in /usr/local/lib/python3.6/dist-packages (from catalogue<1.1.0,>=0.0.7->spacy>=2.2.0->en-core-web-md==2.2.0) (1.5.0)\n",
            "Requirement already satisfied: certifi>=2017.4.17 in /usr/local/lib/python3.6/dist-packages (from requests<3.0.0,>=2.13.0->spacy>=2.2.0->en-core-web-md==2.2.0) (2019.11.28)\n",
            "Requirement already satisfied: chardet<3.1.0,>=3.0.2 in /usr/local/lib/python3.6/dist-packages (from requests<3.0.0,>=2.13.0->spacy>=2.2.0->en-core-web-md==2.2.0) (3.0.4)\n",
            "Requirement already satisfied: urllib3<1.25,>=1.21.1 in /usr/local/lib/python3.6/dist-packages (from requests<3.0.0,>=2.13.0->spacy>=2.2.0->en-core-web-md==2.2.0) (1.24.3)\n",
            "Requirement already satisfied: idna<2.9,>=2.5 in /usr/local/lib/python3.6/dist-packages (from requests<3.0.0,>=2.13.0->spacy>=2.2.0->en-core-web-md==2.2.0) (2.8)\n",
            "Requirement already satisfied: tqdm<5.0.0,>=4.10.0 in /usr/local/lib/python3.6/dist-packages (from thinc<7.4.0,>=7.3.0->spacy>=2.2.0->en-core-web-md==2.2.0) (4.28.1)\n",
            "Requirement already satisfied: zipp>=0.5 in /usr/local/lib/python3.6/dist-packages (from importlib-metadata>=0.20; python_version < \"3.8\"->catalogue<1.1.0,>=0.0.7->spacy>=2.2.0->en-core-web-md==2.2.0) (3.1.0)\n",
            "Building wheels for collected packages: en-core-web-md\n",
            "  Building wheel for en-core-web-md (setup.py) ... \u001b[?25l\u001b[?25hdone\n",
            "  Created wheel for en-core-web-md: filename=en_core_web_md-2.2.0-cp36-none-any.whl size=98072934 sha256=401da4ce62fac5d75b604fdb988af913cb47ce7551fde1ddf9df488f6bb989a0\n",
            "  Stored in directory: /root/.cache/pip/wheels/5f/3e/c9/36dd6e13b449fd84cd1f94b72dfbc559daf09f53dbf4e697a3\n",
            "Successfully built en-core-web-md\n"
          ],
          "name": "stdout"
        }
      ]
    },
    {
      "cell_type": "code",
      "metadata": {
        "id": "82dm1Q_8sdQM",
        "colab_type": "code",
        "colab": {}
      },
      "source": [
        "import pandas as pd\n",
        "import matplotlib.pyplot as plt\n",
        "import numpy as np\n",
        "\n",
        "import spacy\n",
        "from spacy.lang.en import English\n",
        "\n",
        "from sklearn.metrics import accuracy_score, precision_score, recall_score, cohen_kappa_score, confusion_matrix, f1_score, ConfusionMatrixDisplay\n",
        "from sklearn.linear_model import LogisticRegression, SGDClassifier\n",
        "from sklearn.tree import DecisionTreeClassifier\n",
        "from sklearn.naive_bayes import BernoulliNB, ComplementNB, GaussianNB, MultinomialNB \n",
        "from sklearn import tree\n",
        "from sklearn.model_selection import train_test_split, KFold, StratifiedKFold\n",
        "from sklearn.feature_extraction.text import CountVectorizer,TfidfVectorizer\n",
        "from sklearn.neighbors import KNeighborsClassifier\n",
        "from sklearn.svm import LinearSVC, SVC\n",
        "\n",
        "nlp = spacy.load('en_core_web_md', disable=[\"parser\", \"ner\"])"
      ],
      "execution_count": 0,
      "outputs": []
    },
    {
      "cell_type": "markdown",
      "metadata": {
        "id": "QzFBHtFHRBkH",
        "colab_type": "text"
      },
      "source": [
        "# Upload your data\n",
        "To upload your own files for access in Google Colab:\n",
        "\n",
        "1. Save the file in Google Drive.\n",
        "\n",
        "2. Once it's saved, find it in your drive, right-click, and click `Get Shareable Link`.\n",
        "\n",
        "3. Flip the toggle in the pop-up to `Link Sharing On`, then click `Sharing Settings`.\n",
        "\n",
        "4. In the dropdown menu, choose `Anyone with the link can view`, then click `Copy Link`.\n",
        "\n",
        "5. Paste that link in the code field below. \n",
        "\n",
        "6. Alter the link to the format below. Specifically, the link provided by Google Drive is written by default as:\n",
        "\n",
        "`https://docs.google.com/document/d/ABCDEFG`\n",
        "\n",
        "Replace this with:\n",
        "\n",
        "`https://docs.google.com/uc?export=download&id=ABCDEFG`\n",
        "\n",
        "Make sure that the unique identifier (`ABCDEFG`) above is identical to what you copied from Google Drive. Once you have saved the file to the Google Colab server, you can now open that file in Python, as in the next cell below.\n"
      ]
    },
    {
      "cell_type": "code",
      "metadata": {
        "id": "gD8xgRYrRAV3",
        "colab_type": "code",
        "outputId": "2bdbf4a3-650d-476e-a50b-48834248d008",
        "colab": {
          "base_uri": "https://localhost:8080/",
          "height": 326
        }
      },
      "source": [
        "!wget --no-check-certificate 'https://docs.google.com/uc?export=download&id=1ZuQIDqX1ubW0sGazUwLW0joqU5cFfngg' -O training_set.csv"
      ],
      "execution_count": 2,
      "outputs": [
        {
          "output_type": "stream",
          "text": [
            "--2020-03-06 01:54:21--  https://docs.google.com/uc?export=download&id=1ZuQIDqX1ubW0sGazUwLW0joqU5cFfngg\n",
            "Resolving docs.google.com (docs.google.com)... 74.125.197.100, 74.125.197.139, 74.125.197.102, ...\n",
            "Connecting to docs.google.com (docs.google.com)|74.125.197.100|:443... connected.\n",
            "HTTP request sent, awaiting response... 302 Moved Temporarily\n",
            "Location: https://doc-0g-8k-docs.googleusercontent.com/docs/securesc/ha0ro937gcuc7l7deffksulhg5h7mbp1/9euobbb2oqapffuoir7omsvube0i8flr/1583459625000/03716306103365085130/*/1ZuQIDqX1ubW0sGazUwLW0joqU5cFfngg?e=download [following]\n",
            "Warning: wildcards not supported in HTTP.\n",
            "--2020-03-06 01:54:21--  https://doc-0g-8k-docs.googleusercontent.com/docs/securesc/ha0ro937gcuc7l7deffksulhg5h7mbp1/9euobbb2oqapffuoir7omsvube0i8flr/1583459625000/03716306103365085130/*/1ZuQIDqX1ubW0sGazUwLW0joqU5cFfngg?e=download\n",
            "Resolving doc-0g-8k-docs.googleusercontent.com (doc-0g-8k-docs.googleusercontent.com)... 74.125.142.132, 2607:f8b0:400e:c08::84\n",
            "Connecting to doc-0g-8k-docs.googleusercontent.com (doc-0g-8k-docs.googleusercontent.com)|74.125.142.132|:443... connected.\n",
            "HTTP request sent, awaiting response... 200 OK\n",
            "Length: 27543 (27K) [text/csv]\n",
            "Saving to: ‘training_set.csv’\n",
            "\n",
            "\rtraining_set.csv      0%[                    ]       0  --.-KB/s               \rtraining_set.csv    100%[===================>]  26.90K  --.-KB/s    in 0s      \n",
            "\n",
            "2020-03-06 01:54:22 (104 MB/s) - ‘training_set.csv’ saved [27543/27543]\n",
            "\n"
          ],
          "name": "stdout"
        }
      ]
    },
    {
      "cell_type": "markdown",
      "metadata": {
        "id": "1-M5G2ryQRSe",
        "colab_type": "text"
      },
      "source": [
        "# Homework 5 (Due March 6, 2020)\n",
        "\n",
        "Last week you annotated a set of at least 200 microblog posts (your Training Set) with a supervised learning task designed by you and your partner, with your own annotation manual. \n",
        "\n",
        "By now, you should have two columns of labels for each post, and you should know the approximate upper bound of machine learning performance on this data, equal to your inter-rater reliability.\n",
        "\n",
        "Save your work to a CSV file with the two annotator's labels (name the columns `labels_A` and `labels_B`), and a third column with the original text of the annotated post. "
      ]
    },
    {
      "cell_type": "markdown",
      "metadata": {
        "id": "TgNb7Dy22Jri",
        "colab_type": "text"
      },
      "source": [
        "# Task 1\n",
        "Divide your data into a training set and a test set made up of 20% of the data. If you have 200 rows, your training set should have 160 examples, and your test set should have 40 rows."
      ]
    },
    {
      "cell_type": "code",
      "metadata": {
        "id": "sN6W49dCdBUw",
        "colab_type": "code",
        "colab": {}
      },
      "source": [
        "input_file = pd.read_csv(\"training_set.csv\")\n",
        "\n",
        "# pre-process dataframe\n",
        "input_file.drop(columns=['Unnamed: 0','topic','Unnamed: 5','Unnamed: 6'],inplace=True)\n",
        "input_file.rename(columns={'label_Zhao':'labels_A','label_Song':'labels_B'},inplace=True)\n",
        "\n",
        "# select sample\n",
        "test_set = input_file.sample(40)\n",
        "training_set = input_file.drop(test_set.index)\n",
        "\n",
        "# reset index\n",
        "test_set = test_set.reset_index().drop(columns=['index'])\n",
        "training_set = training_set.reset_index().drop(columns=['index'])"
      ],
      "execution_count": 0,
      "outputs": []
    },
    {
      "cell_type": "code",
      "metadata": {
        "id": "3s4-gSAaUV72",
        "colab_type": "code",
        "colab": {
          "base_uri": "https://localhost:8080/",
          "height": 419
        },
        "outputId": "7886a44e-da95-460e-a9ae-c7d036319edb"
      },
      "source": [
        "training_set"
      ],
      "execution_count": 4,
      "outputs": [
        {
          "output_type": "execute_result",
          "data": {
            "text/html": [
              "<div>\n",
              "<style scoped>\n",
              "    .dataframe tbody tr th:only-of-type {\n",
              "        vertical-align: middle;\n",
              "    }\n",
              "\n",
              "    .dataframe tbody tr th {\n",
              "        vertical-align: top;\n",
              "    }\n",
              "\n",
              "    .dataframe thead th {\n",
              "        text-align: right;\n",
              "    }\n",
              "</style>\n",
              "<table border=\"1\" class=\"dataframe\">\n",
              "  <thead>\n",
              "    <tr style=\"text-align: right;\">\n",
              "      <th></th>\n",
              "      <th>text</th>\n",
              "      <th>labels_B</th>\n",
              "      <th>labels_A</th>\n",
              "    </tr>\n",
              "  </thead>\n",
              "  <tbody>\n",
              "    <tr>\n",
              "      <th>0</th>\n",
              "      <td>@tehseenp I just can't believe ppl like you ex...</td>\n",
              "      <td>2</td>\n",
              "      <td>2</td>\n",
              "    </tr>\n",
              "    <tr>\n",
              "      <th>1</th>\n",
              "      <td>Why am I just now hearing J Cole and Kendrick ...</td>\n",
              "      <td>1</td>\n",
              "      <td>1</td>\n",
              "    </tr>\n",
              "    <tr>\n",
              "      <th>2</th>\n",
              "      <td>Murray with another huge 1st down run, 26 yds</td>\n",
              "      <td>1</td>\n",
              "      <td>1</td>\n",
              "    </tr>\n",
              "    <tr>\n",
              "      <th>3</th>\n",
              "      <td>Lemme see if Kendrick Lamar can become the 2nd...</td>\n",
              "      <td>1</td>\n",
              "      <td>1</td>\n",
              "    </tr>\n",
              "    <tr>\n",
              "      <th>4</th>\n",
              "      <td>Very surprised Tom Brady was willing to speak ...</td>\n",
              "      <td>1</td>\n",
              "      <td>1</td>\n",
              "    </tr>\n",
              "    <tr>\n",
              "      <th>...</th>\n",
              "      <td>...</td>\n",
              "      <td>...</td>\n",
              "      <td>...</td>\n",
              "    </tr>\n",
              "    <tr>\n",
              "      <th>155</th>\n",
              "      <td>best part about Italy getting back the 4th spo...</td>\n",
              "      <td>1</td>\n",
              "      <td>1</td>\n",
              "    </tr>\n",
              "    <tr>\n",
              "      <th>156</th>\n",
              "      <td>Gorzelanny finishes the AB, walks Schwarber. 2...</td>\n",
              "      <td>3</td>\n",
              "      <td>3</td>\n",
              "    </tr>\n",
              "    <tr>\n",
              "      <th>157</th>\n",
              "      <td>Last Friday Night by Katy Perry is #nowplaying...</td>\n",
              "      <td>1</td>\n",
              "      <td>1</td>\n",
              "    </tr>\n",
              "    <tr>\n",
              "      <th>158</th>\n",
              "      <td>@mobeenakhan I think you may be confusing @ijc...</td>\n",
              "      <td>2</td>\n",
              "      <td>2</td>\n",
              "    </tr>\n",
              "    <tr>\n",
              "      <th>159</th>\n",
              "      <td>By Tom Perry BEIRUT, Dec 7 (Reuters) - A Syria...</td>\n",
              "      <td>3</td>\n",
              "      <td>3</td>\n",
              "    </tr>\n",
              "  </tbody>\n",
              "</table>\n",
              "<p>160 rows × 3 columns</p>\n",
              "</div>"
            ],
            "text/plain": [
              "                                                  text  labels_B  labels_A\n",
              "0    @tehseenp I just can't believe ppl like you ex...         2         2\n",
              "1    Why am I just now hearing J Cole and Kendrick ...         1         1\n",
              "2        Murray with another huge 1st down run, 26 yds         1         1\n",
              "3    Lemme see if Kendrick Lamar can become the 2nd...         1         1\n",
              "4    Very surprised Tom Brady was willing to speak ...         1         1\n",
              "..                                                 ...       ...       ...\n",
              "155  best part about Italy getting back the 4th spo...         1         1\n",
              "156  Gorzelanny finishes the AB, walks Schwarber. 2...         3         3\n",
              "157  Last Friday Night by Katy Perry is #nowplaying...         1         1\n",
              "158  @mobeenakhan I think you may be confusing @ijc...         2         2\n",
              "159  By Tom Perry BEIRUT, Dec 7 (Reuters) - A Syria...         3         3\n",
              "\n",
              "[160 rows x 3 columns]"
            ]
          },
          "metadata": {
            "tags": []
          },
          "execution_count": 4
        }
      ]
    },
    {
      "cell_type": "markdown",
      "metadata": {
        "id": "B2ZEWAqydB47",
        "colab_type": "text"
      },
      "source": [
        "# Task 2\n",
        "\n",
        "Use 10-fold cross-validation on your training set. Each fold should contain 8% of the original training data (if you had 200 rows originally and use an 80% training set, each fold for optimization will contain 16 examples). \n",
        "\n",
        "Optimize a machine learning classifier predicting `labels_A`, using features you extract from the microblog texts. \n",
        "\n",
        "Choose and perform **THREE** of the following optimizations:\n",
        "\n",
        "   - Compare Naïve Bayes, Logistic Regression, and SVMs on a unigram feature space.\n",
        "   - Compare a unigram feature space with a feature space that also includes longer N-grams.\n",
        "   - Compare a unigram feature space with a feature space that removes stopwords.\n",
        "   - Vary the vocabulary size of your n-gram feature space and evaluate how performance changes.\n",
        "   - If you are working with English data, additional options include:\n",
        "      - Compare an n-gram feature space with a feature space that also includes part-of-speech n-grams.\n",
        "      - Compare an n-gram feature space to a word embedding feature space.\n",
        "      - Compare a standard n-gram feature space with a lemmatized feature space.\n",
        "   - For the one most accurate model so far, tune your hyperparameters.\n",
        "       - For Naive Bayes, evaluate different implementations: ComplementNB, MultinomialNB, BernoulliNB\n",
        "       - For Support Vector Machines, evaluate different kernels including a polynomial kernel and a radial basis function kernel.\n",
        "       - For Logistic Regression, try L1 and L2 regularization, as well as unregularized features.\n",
        "\n",
        "Report the performance of your best-tuned model on the cross-validated training set.\n"
      ]
    },
    {
      "cell_type": "markdown",
      "metadata": {
        "id": "xWuUkkq1d4oi",
        "colab_type": "text"
      },
      "source": [
        "## 2.0 Initialize & Pre-porcessing"
      ]
    },
    {
      "cell_type": "markdown",
      "metadata": {
        "id": "O_UixU4SL2jf",
        "colab_type": "text"
      },
      "source": [
        "### define modeling function"
      ]
    },
    {
      "cell_type": "code",
      "metadata": {
        "id": "_Ju7A6_ad2c7",
        "colab_type": "code",
        "colab": {}
      },
      "source": [
        "def k_folds_model(dataset, x_columns, y_column, classifiers, metrics, kf_num, matrix_labels, cmatrix_show = True):\n",
        "  \n",
        "  # use dataframe to store outcomes\n",
        "  records = []\n",
        "\n",
        "  for classifier_name, classifier in classifiers.items():\n",
        "\n",
        "    X = dataset.loc[:, x_columns]\n",
        "    X = pd.get_dummies(X)\n",
        "    y = dataset[y_column]\n",
        "    kf = KFold(n_splits=kf_num, shuffle=True)\n",
        "\n",
        "    for fold_num, (train_index, test_index) in enumerate(kf.split(X, y)):\n",
        "\n",
        "      fold_record = {'Classifier':classifier_name,\n",
        "                     'Fold_num': fold_num}\n",
        "\n",
        "      X_train = X.iloc[train_index]\n",
        "      X_test = X.iloc[test_index]\n",
        "      y_train = y.iloc[train_index]\n",
        "      y_test = y.iloc[test_index]\n",
        "\n",
        "      # train the model\n",
        "      model = classifier.fit(X_train, y_train)\n",
        "      y_pred = model.predict(X_test)\n",
        "\n",
        "      # calculate the metrics\n",
        "      for (metric_name, metric) in metrics.items():\n",
        "        result = metric(y_test, y_pred)\n",
        "        fold_record[metric_name] = result\n",
        "      \n",
        "      # plot confusion matrix if needed\n",
        "      if cmatrix_show:\n",
        "        conf_matrix = confusion_matrix(y_test, y_pred)\n",
        "        ConfusionMatrixDisplay(conf_matrix, matrix_labels).plot(values_format='.4g',)\n",
        "        plt.show()\n",
        "\n",
        "      records.append(fold_record)\n",
        "\n",
        "    records_df = pd.DataFrame(records)\n",
        "  \n",
        "  return records_df"
      ],
      "execution_count": 0,
      "outputs": []
    },
    {
      "cell_type": "markdown",
      "metadata": {
        "id": "lxWs7nePLo0V",
        "colab_type": "text"
      },
      "source": [
        "### build bag-of-words df"
      ]
    },
    {
      "cell_type": "code",
      "metadata": {
        "id": "KxUIubHD-dK1",
        "colab_type": "code",
        "colab": {}
      },
      "source": [
        "def ngrams(df, text_column, old_label, new_label, vocab_size = 1000, max_n=1, stop_words = None, lowercase=True):\n",
        "  vectorizer = CountVectorizer(max_features=vocab_size, ngram_range=(1,max_n), stop_words = stop_words, lowercase=lowercase)\n",
        "  X = vectorizer.fit_transform(df[text_column])\n",
        "\n",
        "  df_bow = pd.DataFrame(X.toarray())\n",
        "  column_names = [str(i) for i in range(vocab_size)]\n",
        "\n",
        "  for k, v in vectorizer.vocabulary_.items():\n",
        "    column_names[v] = k\n",
        "  df_bow.columns = column_names\n",
        "  df_bow[new_label] = df[old_label].values\n",
        "  return df_bow"
      ],
      "execution_count": 0,
      "outputs": []
    },
    {
      "cell_type": "markdown",
      "metadata": {
        "id": "SZzto-QQLtrz",
        "colab_type": "text"
      },
      "source": [
        "### build embedding df"
      ]
    },
    {
      "cell_type": "code",
      "metadata": {
        "id": "xu87gk_tLkZ2",
        "colab_type": "code",
        "colab": {}
      },
      "source": [
        "dimensions = 300\n",
        "\n",
        "X_dict = {\n",
        "    f\"D{i}\":[] for i in range(dimensions)\n",
        "}\n",
        "\n",
        "text = training_set['text'].apply(nlp)\n",
        "for row in text:\n",
        "    vector = row.vector\n",
        "    for i in range(len(vector)):\n",
        "        key = f\"D{i}\"\n",
        "        X_dict[key].append(vector[i])\n",
        "\n",
        "training_embedding_df = pd.DataFrame(X_dict)\n",
        "training_embedding_df['sentiment'] = training_set['labels_A']\n",
        "# training_embedding_df"
      ],
      "execution_count": 0,
      "outputs": []
    },
    {
      "cell_type": "markdown",
      "metadata": {
        "id": "CNV_CQyeyoHz",
        "colab_type": "text"
      },
      "source": [
        "## 2.1 Compare Classifiers"
      ]
    },
    {
      "cell_type": "code",
      "metadata": {
        "id": "0wiABad_lYJb",
        "colab_type": "code",
        "colab": {
          "base_uri": "https://localhost:8080/",
          "height": 328
        },
        "outputId": "9a4961f6-85ca-471f-d980-3fb02b196c31"
      },
      "source": [
        "# train models of the following classifier using bag-of-words df\n",
        "unigram_training_bow = ngrams(training_set, 'text',\"labels_A\", \"sentiment\", vocab_size = 1000, max_n=1)\n",
        "\n",
        "classifiers_bow = {\n",
        "    \"Decision Tree\": DecisionTreeClassifier(criterion=\"entropy\", random_state=123),\n",
        "    \"Bernoulli NB\": BernoulliNB(),\n",
        "    \"Complement NB\": ComplementNB(), \n",
        "    \"Multinomial NB\": MultinomialNB(),\n",
        "    \"Logistic Regression\": LogisticRegression(penalty=\"none\", solver=\"lbfgs\", multi_class='ovr', max_iter=10000, random_state=123)\n",
        "}\n",
        "\n",
        "metrics = {\n",
        "    \"Accuracy\" : lambda y_test,y_pred: 100*accuracy_score(y_test,y_pred),\n",
        "    \"Kappa\"    : cohen_kappa_score\n",
        "}\n",
        "\n",
        "matrix_labels = [\"Positive\", \"Negative\", \"Neutral\"]\n",
        "x_columns = list(unigram_training_bow.columns[:-1])\n",
        "\n",
        "classifier_comparison_df_1 = k_folds_model(unigram_training_bow, x_columns, 'sentiment', classifiers_bow, metrics, 10, matrix_labels, False)\n",
        "\n",
        "\n",
        "# train models of the following classifier using word embedding df\n",
        "classifiers_we = {\n",
        "    \"Linear SVM\": LinearSVC(),\n",
        "    \"RBF SVM\": SVC(kernel='rbf'),\n",
        "    \"Poly SVM\": SVC(kernel='poly')\n",
        "}\n",
        "classifier_comparison_df_2 = k_folds_model(training_embedding_df, X_dict.keys(), 'sentiment', classifiers_we, metrics, 10, matrix_labels, False)\n",
        "\n",
        "\n",
        "# compare the performance of all classifiers\n",
        "classifier_comparison_df = pd.concat([classifier_comparison_df_1,classifier_comparison_df_2])\n",
        "classifier_average = classifier_comparison_df.groupby('Classifier')['Accuracy','Kappa'].mean()\n",
        "classifier_average.sort_values(by=['Kappa'], ascending=False,inplace=True)\n",
        "classifier_average"
      ],
      "execution_count": 8,
      "outputs": [
        {
          "output_type": "execute_result",
          "data": {
            "text/html": [
              "<div>\n",
              "<style scoped>\n",
              "    .dataframe tbody tr th:only-of-type {\n",
              "        vertical-align: middle;\n",
              "    }\n",
              "\n",
              "    .dataframe tbody tr th {\n",
              "        vertical-align: top;\n",
              "    }\n",
              "\n",
              "    .dataframe thead th {\n",
              "        text-align: right;\n",
              "    }\n",
              "</style>\n",
              "<table border=\"1\" class=\"dataframe\">\n",
              "  <thead>\n",
              "    <tr style=\"text-align: right;\">\n",
              "      <th></th>\n",
              "      <th>Accuracy</th>\n",
              "      <th>Kappa</th>\n",
              "    </tr>\n",
              "    <tr>\n",
              "      <th>Classifier</th>\n",
              "      <th></th>\n",
              "      <th></th>\n",
              "    </tr>\n",
              "  </thead>\n",
              "  <tbody>\n",
              "    <tr>\n",
              "      <th>Linear SVM</th>\n",
              "      <td>67.500</td>\n",
              "      <td>0.333663</td>\n",
              "    </tr>\n",
              "    <tr>\n",
              "      <th>Multinomial NB</th>\n",
              "      <td>59.375</td>\n",
              "      <td>0.231488</td>\n",
              "    </tr>\n",
              "    <tr>\n",
              "      <th>Complement NB</th>\n",
              "      <td>55.625</td>\n",
              "      <td>0.196368</td>\n",
              "    </tr>\n",
              "    <tr>\n",
              "      <th>Logistic Regression</th>\n",
              "      <td>57.500</td>\n",
              "      <td>0.157820</td>\n",
              "    </tr>\n",
              "    <tr>\n",
              "      <th>Poly SVM</th>\n",
              "      <td>62.500</td>\n",
              "      <td>0.109637</td>\n",
              "    </tr>\n",
              "    <tr>\n",
              "      <th>RBF SVM</th>\n",
              "      <td>60.625</td>\n",
              "      <td>0.022330</td>\n",
              "    </tr>\n",
              "    <tr>\n",
              "      <th>Bernoulli NB</th>\n",
              "      <td>60.000</td>\n",
              "      <td>0.000000</td>\n",
              "    </tr>\n",
              "    <tr>\n",
              "      <th>Decision Tree</th>\n",
              "      <td>46.250</td>\n",
              "      <td>-0.003157</td>\n",
              "    </tr>\n",
              "  </tbody>\n",
              "</table>\n",
              "</div>"
            ],
            "text/plain": [
              "                     Accuracy     Kappa\n",
              "Classifier                             \n",
              "Linear SVM             67.500  0.333663\n",
              "Multinomial NB         59.375  0.231488\n",
              "Complement NB          55.625  0.196368\n",
              "Logistic Regression    57.500  0.157820\n",
              "Poly SVM               62.500  0.109637\n",
              "RBF SVM                60.625  0.022330\n",
              "Bernoulli NB           60.000  0.000000\n",
              "Decision Tree          46.250 -0.003157"
            ]
          },
          "metadata": {
            "tags": []
          },
          "execution_count": 8
        }
      ]
    },
    {
      "cell_type": "markdown",
      "metadata": {
        "id": "_Am0CgsFXpCY",
        "colab_type": "text"
      },
      "source": [
        "For this task, I'm testing the models' performance using different classifiers such as Naïve Bayes, Logistic Regression, and SVMs on a unigram feature space. Given above results of Accuracy and Kappa, linear support vector machine performed the best at 67.5% of accuracy and 0.42 kappa score (the actual value floats every time between 0.28 to 0.42) using word embedding dataframe. The accuracy scores range from 46.9% (Decision Tree) to 67.5% (Linear SVM) and the kappa scores range from almost 0 (Bernoulli NB and decision tree) to 0.42. Thus, the selection of classifiers matters significantly to the performance of models."
      ]
    },
    {
      "cell_type": "markdown",
      "metadata": {
        "id": "FoSkAHzXy1YF",
        "colab_type": "text"
      },
      "source": [
        "## 2.2 Longer N-grams"
      ]
    },
    {
      "cell_type": "code",
      "metadata": {
        "id": "XNrb2vZAeHyW",
        "colab_type": "code",
        "colab": {
          "base_uri": "https://localhost:8080/",
          "height": 390
        },
        "outputId": "2a7ad13e-7a68-492b-f973-5301f5ac6041"
      },
      "source": [
        "ngrams_results = pd.DataFrame()\n",
        "\n",
        "# try unigram, bigram and trigram\n",
        "for i in range(1,4):\n",
        "  ngrams_bow = ngrams(training_set, 'text',\"labels_A\", \"sentiment\", vocab_size=1000, max_n=i)\n",
        "  columns = list(ngrams_bow.columns[:-1])\n",
        "  ngrams_result = k_folds_model(ngrams_bow, columns, 'sentiment', classifiers_bow, metrics, 10, matrix_labels, False)\n",
        "  ngrams_result['ngram'] = i\n",
        "\n",
        "  # put the results together\n",
        "  ngrams_results = pd.concat([ngrams_results,ngrams_result])\n",
        "\n",
        "\n",
        "# calculate the average metrics of different ngram classifiers\n",
        "ngrams_average = ngrams_results.groupby(['Classifier','ngram'])['Accuracy','Kappa'].mean()\n",
        "ngrams_average.sort_values(by=['Kappa'], ascending=False,inplace=True)\n",
        "ngrams_average.head(10)"
      ],
      "execution_count": 9,
      "outputs": [
        {
          "output_type": "execute_result",
          "data": {
            "text/html": [
              "<div>\n",
              "<style scoped>\n",
              "    .dataframe tbody tr th:only-of-type {\n",
              "        vertical-align: middle;\n",
              "    }\n",
              "\n",
              "    .dataframe tbody tr th {\n",
              "        vertical-align: top;\n",
              "    }\n",
              "\n",
              "    .dataframe thead th {\n",
              "        text-align: right;\n",
              "    }\n",
              "</style>\n",
              "<table border=\"1\" class=\"dataframe\">\n",
              "  <thead>\n",
              "    <tr style=\"text-align: right;\">\n",
              "      <th></th>\n",
              "      <th></th>\n",
              "      <th>Accuracy</th>\n",
              "      <th>Kappa</th>\n",
              "    </tr>\n",
              "    <tr>\n",
              "      <th>Classifier</th>\n",
              "      <th>ngram</th>\n",
              "      <th></th>\n",
              "      <th></th>\n",
              "    </tr>\n",
              "  </thead>\n",
              "  <tbody>\n",
              "    <tr>\n",
              "      <th rowspan=\"2\" valign=\"top\">Multinomial NB</th>\n",
              "      <th>2</th>\n",
              "      <td>63.125</td>\n",
              "      <td>0.279732</td>\n",
              "    </tr>\n",
              "    <tr>\n",
              "      <th>3</th>\n",
              "      <td>57.500</td>\n",
              "      <td>0.205066</td>\n",
              "    </tr>\n",
              "    <tr>\n",
              "      <th rowspan=\"2\" valign=\"top\">Complement NB</th>\n",
              "      <th>2</th>\n",
              "      <td>54.375</td>\n",
              "      <td>0.200868</td>\n",
              "    </tr>\n",
              "    <tr>\n",
              "      <th>3</th>\n",
              "      <td>51.875</td>\n",
              "      <td>0.195237</td>\n",
              "    </tr>\n",
              "    <tr>\n",
              "      <th>Logistic Regression</th>\n",
              "      <th>3</th>\n",
              "      <td>58.750</td>\n",
              "      <td>0.193059</td>\n",
              "    </tr>\n",
              "    <tr>\n",
              "      <th>Multinomial NB</th>\n",
              "      <th>1</th>\n",
              "      <td>59.375</td>\n",
              "      <td>0.188737</td>\n",
              "    </tr>\n",
              "    <tr>\n",
              "      <th>Logistic Regression</th>\n",
              "      <th>2</th>\n",
              "      <td>57.500</td>\n",
              "      <td>0.179497</td>\n",
              "    </tr>\n",
              "    <tr>\n",
              "      <th>Complement NB</th>\n",
              "      <th>1</th>\n",
              "      <td>54.375</td>\n",
              "      <td>0.175202</td>\n",
              "    </tr>\n",
              "    <tr>\n",
              "      <th>Logistic Regression</th>\n",
              "      <th>1</th>\n",
              "      <td>60.625</td>\n",
              "      <td>0.156164</td>\n",
              "    </tr>\n",
              "    <tr>\n",
              "      <th>Decision Tree</th>\n",
              "      <th>3</th>\n",
              "      <td>48.750</td>\n",
              "      <td>0.078245</td>\n",
              "    </tr>\n",
              "  </tbody>\n",
              "</table>\n",
              "</div>"
            ],
            "text/plain": [
              "                           Accuracy     Kappa\n",
              "Classifier          ngram                    \n",
              "Multinomial NB      2        63.125  0.279732\n",
              "                    3        57.500  0.205066\n",
              "Complement NB       2        54.375  0.200868\n",
              "                    3        51.875  0.195237\n",
              "Logistic Regression 3        58.750  0.193059\n",
              "Multinomial NB      1        59.375  0.188737\n",
              "Logistic Regression 2        57.500  0.179497\n",
              "Complement NB       1        54.375  0.175202\n",
              "Logistic Regression 1        60.625  0.156164\n",
              "Decision Tree       3        48.750  0.078245"
            ]
          },
          "metadata": {
            "tags": []
          },
          "execution_count": 9
        }
      ]
    },
    {
      "cell_type": "markdown",
      "metadata": {
        "id": "qOKFSWVzmiZg",
        "colab_type": "text"
      },
      "source": [
        "While the vocabulary sizes of ngram space stay the same, the models on trigram and bigram space perform better than on unigram. The Kappa scores of multinomial NB, complement NB and logistic regression are both raised by about 0.1 from unigram to trigram. The ngrams spaces does not influence the performance of decision tree much though. The best performing model for n-grams optimization is multinomial NB on trigram space."
      ]
    },
    {
      "cell_type": "markdown",
      "metadata": {
        "id": "0bv5aRw4y8sT",
        "colab_type": "text"
      },
      "source": [
        "## 2.3 Remove stopwords"
      ]
    },
    {
      "cell_type": "code",
      "metadata": {
        "id": "5NKvtpP9pf7t",
        "colab_type": "code",
        "colab": {
          "base_uri": "https://localhost:8080/",
          "height": 390
        },
        "outputId": "556ab408-24a8-457c-ab94-51c71411ae7c"
      },
      "source": [
        "# unigram\n",
        "unigram_bow = ngrams(training_set, 'text',\"labels_A\", \"sentiment\", vocab_size=1000)\n",
        "columns = list(unigram_bow.columns[:-1])\n",
        "unigram_result = k_folds_model(unigram_bow, columns, 'sentiment', classifiers_bow, metrics, 10, matrix_labels, False)\n",
        "\n",
        "# remove stopwords\n",
        "stop_words_bow = ngrams(training_set, 'text',\"labels_A\", \"sentiment\", vocab_size=1000, stop_words='english')\n",
        "columns = list(stop_words_bow.columns[:-1])\n",
        "stop_words_result = k_folds_model(stop_words_bow, columns, 'sentiment', classifiers_bow, metrics, 10, matrix_labels, False)\n",
        "stop_words_result['sw_removed'] = 1\n",
        "\n",
        "# try case sensitive\n",
        "case_sensitive_bow = ngrams(training_set, 'text',\"labels_A\", \"sentiment\", vocab_size=1000, lowercase=False)\n",
        "columns = list(case_sensitive_bow.columns[:-1])\n",
        "case_sensitive_result = k_folds_model(case_sensitive_bow, columns, 'sentiment', classifiers_bow, metrics, 10, matrix_labels, False)\n",
        "case_sensitive_result['case_sensitive'] = 1\n",
        "\n",
        "\n",
        "# get the average metrics of model with different optimization options\n",
        "stop_lower_results = pd.concat([unigram_result,stop_words_result,case_sensitive_result],sort=True)\n",
        "stop_lower_results.fillna(0, inplace=True)\n",
        "stop_lower_results['case_sensitive'] = stop_lower_results['case_sensitive'].astype(int)\n",
        "stop_lower_results['sw_removed'] = stop_lower_results['sw_removed'].astype(int)\n",
        "stop_lower_average = stop_lower_results.groupby(['Classifier','case_sensitive','sw_removed'])['Accuracy','Kappa'].mean()\n",
        "stop_lower_average.sort_values(by=['Kappa'], ascending=False,inplace=True)\n",
        "stop_lower_average.head(10)"
      ],
      "execution_count": 10,
      "outputs": [
        {
          "output_type": "execute_result",
          "data": {
            "text/html": [
              "<div>\n",
              "<style scoped>\n",
              "    .dataframe tbody tr th:only-of-type {\n",
              "        vertical-align: middle;\n",
              "    }\n",
              "\n",
              "    .dataframe tbody tr th {\n",
              "        vertical-align: top;\n",
              "    }\n",
              "\n",
              "    .dataframe thead th {\n",
              "        text-align: right;\n",
              "    }\n",
              "</style>\n",
              "<table border=\"1\" class=\"dataframe\">\n",
              "  <thead>\n",
              "    <tr style=\"text-align: right;\">\n",
              "      <th></th>\n",
              "      <th></th>\n",
              "      <th></th>\n",
              "      <th>Accuracy</th>\n",
              "      <th>Kappa</th>\n",
              "    </tr>\n",
              "    <tr>\n",
              "      <th>Classifier</th>\n",
              "      <th>case_sensitive</th>\n",
              "      <th>sw_removed</th>\n",
              "      <th></th>\n",
              "      <th></th>\n",
              "    </tr>\n",
              "  </thead>\n",
              "  <tbody>\n",
              "    <tr>\n",
              "      <th>Logistic Regression</th>\n",
              "      <th>0</th>\n",
              "      <th>0</th>\n",
              "      <td>61.250</td>\n",
              "      <td>0.220118</td>\n",
              "    </tr>\n",
              "    <tr>\n",
              "      <th>Complement NB</th>\n",
              "      <th>1</th>\n",
              "      <th>0</th>\n",
              "      <td>52.500</td>\n",
              "      <td>0.192915</td>\n",
              "    </tr>\n",
              "    <tr>\n",
              "      <th>Multinomial NB</th>\n",
              "      <th>0</th>\n",
              "      <th>0</th>\n",
              "      <td>60.000</td>\n",
              "      <td>0.180731</td>\n",
              "    </tr>\n",
              "    <tr>\n",
              "      <th>Logistic Regression</th>\n",
              "      <th>1</th>\n",
              "      <th>0</th>\n",
              "      <td>57.500</td>\n",
              "      <td>0.175668</td>\n",
              "    </tr>\n",
              "    <tr>\n",
              "      <th>Complement NB</th>\n",
              "      <th>0</th>\n",
              "      <th>1</th>\n",
              "      <td>41.250</td>\n",
              "      <td>0.119576</td>\n",
              "    </tr>\n",
              "    <tr>\n",
              "      <th>Multinomial NB</th>\n",
              "      <th>1</th>\n",
              "      <th>0</th>\n",
              "      <td>55.625</td>\n",
              "      <td>0.119137</td>\n",
              "    </tr>\n",
              "    <tr>\n",
              "      <th>Complement NB</th>\n",
              "      <th>0</th>\n",
              "      <th>0</th>\n",
              "      <td>53.750</td>\n",
              "      <td>0.113953</td>\n",
              "    </tr>\n",
              "    <tr>\n",
              "      <th>Multinomial NB</th>\n",
              "      <th>0</th>\n",
              "      <th>1</th>\n",
              "      <td>47.500</td>\n",
              "      <td>0.112451</td>\n",
              "    </tr>\n",
              "    <tr>\n",
              "      <th>Logistic Regression</th>\n",
              "      <th>0</th>\n",
              "      <th>1</th>\n",
              "      <td>56.250</td>\n",
              "      <td>0.075460</td>\n",
              "    </tr>\n",
              "    <tr>\n",
              "      <th>Decision Tree</th>\n",
              "      <th>0</th>\n",
              "      <th>1</th>\n",
              "      <td>53.125</td>\n",
              "      <td>0.060963</td>\n",
              "    </tr>\n",
              "  </tbody>\n",
              "</table>\n",
              "</div>"
            ],
            "text/plain": [
              "                                               Accuracy     Kappa\n",
              "Classifier          case_sensitive sw_removed                    \n",
              "Logistic Regression 0              0             61.250  0.220118\n",
              "Complement NB       1              0             52.500  0.192915\n",
              "Multinomial NB      0              0             60.000  0.180731\n",
              "Logistic Regression 1              0             57.500  0.175668\n",
              "Complement NB       0              1             41.250  0.119576\n",
              "Multinomial NB      1              0             55.625  0.119137\n",
              "Complement NB       0              0             53.750  0.113953\n",
              "Multinomial NB      0              1             47.500  0.112451\n",
              "Logistic Regression 0              1             56.250  0.075460\n",
              "Decision Tree       0              1             53.125  0.060963"
            ]
          },
          "metadata": {
            "tags": []
          },
          "execution_count": 10
        }
      ]
    },
    {
      "cell_type": "markdown",
      "metadata": {
        "id": "ojcaVOb8zylD",
        "colab_type": "text"
      },
      "source": [
        "Given the results, removing stop words does not necessarily lead to improvents in the models' performance. The best model on the unigram space is still the one using multinomial NB s classifier with stopwords and case insensitivity. For logistic regrssion model, being case sensitive raises the Kappa score by 0.018. Other than that, removing stop words and turning into case sensitive did not help with the optimization."
      ]
    },
    {
      "cell_type": "markdown",
      "metadata": {
        "id": "3QxU5L6ezRL0",
        "colab_type": "text"
      },
      "source": [
        "## 2.4 Vocabulary size"
      ]
    },
    {
      "cell_type": "code",
      "metadata": {
        "id": "wwdUwLmBZ0ob",
        "colab_type": "code",
        "colab": {
          "base_uri": "https://localhost:8080/",
          "height": 390
        },
        "outputId": "75bca345-47c2-42d2-b377-d315eb17d631"
      },
      "source": [
        "ngrams_results = pd.DataFrame()\n",
        "\n",
        "# try unigram, bigram and trigram\n",
        "for i in range(1,4):\n",
        "  if i == 1:\n",
        "    vocab_list = [500,1000]\n",
        "  elif i == 2:\n",
        "    vocab_list = [500,1000,1270]\n",
        "  else:\n",
        "    vocab_list = [500,1000,1270,3809]\n",
        "\n",
        "  for vocab_size in vocab_list:\n",
        "    ngrams_bow = ngrams(training_set, 'text',\"labels_A\", \"sentiment\", vocab_size, max_n=i)\n",
        "    columns = list(ngrams_bow.columns[:-1])\n",
        "    ngrams_result = k_folds_model(ngrams_bow, columns, 'sentiment', classifiers_bow, metrics, 10, matrix_labels, False)\n",
        "    ngrams_result['ngram'] = i\n",
        "    ngrams_result['vocab_size'] = vocab_size\n",
        "\n",
        "    # put the results together\n",
        "    ngrams_results = pd.concat([ngrams_results,ngrams_result])\n",
        "\n",
        "\n",
        "# calculate the average metrics of different ngram classifiers\n",
        "ngrams_average = ngrams_results.groupby(['Classifier','ngram','vocab_size'])['Accuracy','Kappa'].mean()\n",
        "ngrams_average.sort_values(by=['Kappa'], ascending=False,inplace=True)\n",
        "ngrams_average.head(10)"
      ],
      "execution_count": 11,
      "outputs": [
        {
          "output_type": "execute_result",
          "data": {
            "text/html": [
              "<div>\n",
              "<style scoped>\n",
              "    .dataframe tbody tr th:only-of-type {\n",
              "        vertical-align: middle;\n",
              "    }\n",
              "\n",
              "    .dataframe tbody tr th {\n",
              "        vertical-align: top;\n",
              "    }\n",
              "\n",
              "    .dataframe thead th {\n",
              "        text-align: right;\n",
              "    }\n",
              "</style>\n",
              "<table border=\"1\" class=\"dataframe\">\n",
              "  <thead>\n",
              "    <tr style=\"text-align: right;\">\n",
              "      <th></th>\n",
              "      <th></th>\n",
              "      <th></th>\n",
              "      <th>Accuracy</th>\n",
              "      <th>Kappa</th>\n",
              "    </tr>\n",
              "    <tr>\n",
              "      <th>Classifier</th>\n",
              "      <th>ngram</th>\n",
              "      <th>vocab_size</th>\n",
              "      <th></th>\n",
              "      <th></th>\n",
              "    </tr>\n",
              "  </thead>\n",
              "  <tbody>\n",
              "    <tr>\n",
              "      <th rowspan=\"3\" valign=\"top\">Multinomial NB</th>\n",
              "      <th>2</th>\n",
              "      <th>500</th>\n",
              "      <td>58.750</td>\n",
              "      <td>0.269292</td>\n",
              "    </tr>\n",
              "    <tr>\n",
              "      <th rowspan=\"2\" valign=\"top\">3</th>\n",
              "      <th>1270</th>\n",
              "      <td>60.625</td>\n",
              "      <td>0.266461</td>\n",
              "    </tr>\n",
              "    <tr>\n",
              "      <th>1000</th>\n",
              "      <td>60.000</td>\n",
              "      <td>0.263570</td>\n",
              "    </tr>\n",
              "    <tr>\n",
              "      <th rowspan=\"3\" valign=\"top\">Complement NB</th>\n",
              "      <th>1</th>\n",
              "      <th>500</th>\n",
              "      <td>55.625</td>\n",
              "      <td>0.244101</td>\n",
              "    </tr>\n",
              "    <tr>\n",
              "      <th rowspan=\"2\" valign=\"top\">3</th>\n",
              "      <th>1270</th>\n",
              "      <td>53.125</td>\n",
              "      <td>0.229919</td>\n",
              "    </tr>\n",
              "    <tr>\n",
              "      <th>500</th>\n",
              "      <td>51.250</td>\n",
              "      <td>0.224208</td>\n",
              "    </tr>\n",
              "    <tr>\n",
              "      <th>Logistic Regression</th>\n",
              "      <th>3</th>\n",
              "      <th>1270</th>\n",
              "      <td>60.000</td>\n",
              "      <td>0.216849</td>\n",
              "    </tr>\n",
              "    <tr>\n",
              "      <th>Multinomial NB</th>\n",
              "      <th>1</th>\n",
              "      <th>1000</th>\n",
              "      <td>60.625</td>\n",
              "      <td>0.212499</td>\n",
              "    </tr>\n",
              "    <tr>\n",
              "      <th>Complement NB</th>\n",
              "      <th>1</th>\n",
              "      <th>1000</th>\n",
              "      <td>55.000</td>\n",
              "      <td>0.211875</td>\n",
              "    </tr>\n",
              "    <tr>\n",
              "      <th>Multinomial NB</th>\n",
              "      <th>2</th>\n",
              "      <th>1000</th>\n",
              "      <td>58.125</td>\n",
              "      <td>0.210713</td>\n",
              "    </tr>\n",
              "  </tbody>\n",
              "</table>\n",
              "</div>"
            ],
            "text/plain": [
              "                                      Accuracy     Kappa\n",
              "Classifier          ngram vocab_size                    \n",
              "Multinomial NB      2     500           58.750  0.269292\n",
              "                    3     1270          60.625  0.266461\n",
              "                          1000          60.000  0.263570\n",
              "Complement NB       1     500           55.625  0.244101\n",
              "                    3     1270          53.125  0.229919\n",
              "                          500           51.250  0.224208\n",
              "Logistic Regression 3     1270          60.000  0.216849\n",
              "Multinomial NB      1     1000          60.625  0.212499\n",
              "Complement NB       1     1000          55.000  0.211875\n",
              "Multinomial NB      2     1000          58.125  0.210713"
            ]
          },
          "metadata": {
            "tags": []
          },
          "execution_count": 11
        }
      ]
    },
    {
      "cell_type": "markdown",
      "metadata": {
        "id": "DqDpto30aCt2",
        "colab_type": "text"
      },
      "source": [
        "The increasing of vacabulary size does not necessarily lead to improvement in models' performance. On the contrary, I found that smaller vocabulary sizes actually work better with multinomial and complement NB on bigram or trigram space. For example, the decrease of vocabulary size from 1270 to 500 raises the kappa score of Complement NB model on binary space by 0.03."
      ]
    },
    {
      "cell_type": "markdown",
      "metadata": {
        "id": "25OGv6HhzVnM",
        "colab_type": "text"
      },
      "source": [
        "## 2.5 N-grams with part of speech"
      ]
    },
    {
      "cell_type": "code",
      "metadata": {
        "id": "9u3Us_8MqtGd",
        "colab_type": "code",
        "colab": {
          "base_uri": "https://localhost:8080/",
          "height": 390
        },
        "outputId": "0fb1fb57-f9e2-4bc1-b576-6c500b7b907f"
      },
      "source": [
        "# build part-of-speech dataframe\n",
        "training_set_pos = training_set.copy()\n",
        "training_set_pos[\"tokenized\"] = training_set_pos['text'].apply(lambda x: nlp(x))\n",
        "training_set_pos['part_of_speech'] = training_set_pos[\"tokenized\"].apply(lambda x: \" \".join([token.tag_ for token in x]))\n",
        "training_set_pos\n",
        "\n",
        "# train ngram models using part-of-speech input\n",
        "ngrams_results = pd.DataFrame()\n",
        "for i in range(1,4):\n",
        "\n",
        "  ngrams_bow = ngrams(training_set_pos, 'part_of_speech',\"labels_A\", \"sentiment\", vocab_size=38, max_n=i)\n",
        "  columns = list(ngrams_bow.columns[:-1])\n",
        "  ngrams_result = k_folds_model(ngrams_bow, columns, 'sentiment', classifiers_bow, metrics, 10, matrix_labels, False)\n",
        "  ngrams_result['ngram'] = i\n",
        "  ngrams_results = pd.concat([ngrams_results,ngrams_result])\n",
        "\n",
        "# calculate the average metrics of different ngram classifiers\n",
        "ngrams_average_p = ngrams_results.groupby(['Classifier','ngram'])['Accuracy','Kappa'].mean()\n",
        "ngrams_average_p.sort_values(by=['Kappa'], ascending=False,inplace=True)\n",
        "ngrams_average_p.head(10)"
      ],
      "execution_count": 13,
      "outputs": [
        {
          "output_type": "execute_result",
          "data": {
            "text/html": [
              "<div>\n",
              "<style scoped>\n",
              "    .dataframe tbody tr th:only-of-type {\n",
              "        vertical-align: middle;\n",
              "    }\n",
              "\n",
              "    .dataframe tbody tr th {\n",
              "        vertical-align: top;\n",
              "    }\n",
              "\n",
              "    .dataframe thead th {\n",
              "        text-align: right;\n",
              "    }\n",
              "</style>\n",
              "<table border=\"1\" class=\"dataframe\">\n",
              "  <thead>\n",
              "    <tr style=\"text-align: right;\">\n",
              "      <th></th>\n",
              "      <th></th>\n",
              "      <th>Accuracy</th>\n",
              "      <th>Kappa</th>\n",
              "    </tr>\n",
              "    <tr>\n",
              "      <th>Classifier</th>\n",
              "      <th>ngram</th>\n",
              "      <th></th>\n",
              "      <th></th>\n",
              "    </tr>\n",
              "  </thead>\n",
              "  <tbody>\n",
              "    <tr>\n",
              "      <th>Bernoulli NB</th>\n",
              "      <th>1</th>\n",
              "      <td>61.250</td>\n",
              "      <td>0.260103</td>\n",
              "    </tr>\n",
              "    <tr>\n",
              "      <th>Logistic Regression</th>\n",
              "      <th>3</th>\n",
              "      <td>53.125</td>\n",
              "      <td>0.154134</td>\n",
              "    </tr>\n",
              "    <tr>\n",
              "      <th>Bernoulli NB</th>\n",
              "      <th>3</th>\n",
              "      <td>53.125</td>\n",
              "      <td>0.146315</td>\n",
              "    </tr>\n",
              "    <tr>\n",
              "      <th rowspan=\"2\" valign=\"top\">Complement NB</th>\n",
              "      <th>2</th>\n",
              "      <td>43.125</td>\n",
              "      <td>0.131897</td>\n",
              "    </tr>\n",
              "    <tr>\n",
              "      <th>3</th>\n",
              "      <td>46.250</td>\n",
              "      <td>0.131702</td>\n",
              "    </tr>\n",
              "    <tr>\n",
              "      <th>Bernoulli NB</th>\n",
              "      <th>2</th>\n",
              "      <td>50.000</td>\n",
              "      <td>0.122050</td>\n",
              "    </tr>\n",
              "    <tr>\n",
              "      <th>Complement NB</th>\n",
              "      <th>1</th>\n",
              "      <td>46.875</td>\n",
              "      <td>0.117765</td>\n",
              "    </tr>\n",
              "    <tr>\n",
              "      <th>Logistic Regression</th>\n",
              "      <th>2</th>\n",
              "      <td>50.625</td>\n",
              "      <td>0.115223</td>\n",
              "    </tr>\n",
              "    <tr>\n",
              "      <th>Multinomial NB</th>\n",
              "      <th>1</th>\n",
              "      <td>55.000</td>\n",
              "      <td>0.114204</td>\n",
              "    </tr>\n",
              "    <tr>\n",
              "      <th>Decision Tree</th>\n",
              "      <th>2</th>\n",
              "      <td>49.375</td>\n",
              "      <td>0.098861</td>\n",
              "    </tr>\n",
              "  </tbody>\n",
              "</table>\n",
              "</div>"
            ],
            "text/plain": [
              "                           Accuracy     Kappa\n",
              "Classifier          ngram                    \n",
              "Bernoulli NB        1        61.250  0.260103\n",
              "Logistic Regression 3        53.125  0.154134\n",
              "Bernoulli NB        3        53.125  0.146315\n",
              "Complement NB       2        43.125  0.131897\n",
              "                    3        46.250  0.131702\n",
              "Bernoulli NB        2        50.000  0.122050\n",
              "Complement NB       1        46.875  0.117765\n",
              "Logistic Regression 2        50.625  0.115223\n",
              "Multinomial NB      1        55.000  0.114204\n",
              "Decision Tree       2        49.375  0.098861"
            ]
          },
          "metadata": {
            "tags": []
          },
          "execution_count": 13
        }
      ]
    },
    {
      "cell_type": "markdown",
      "metadata": {
        "id": "6ygjmGvnzJY7",
        "colab_type": "text"
      },
      "source": [
        "Bernoulli NB models perform the best compared to other classifiers with part-of-speech tags. But averagely, using part-of-speech tags lower the accuracy and kappa score of the models."
      ]
    },
    {
      "cell_type": "markdown",
      "metadata": {
        "id": "Sxkpr-AFz2IP",
        "colab_type": "text"
      },
      "source": [
        "## Conclusion\n",
        "On the ten-fold cross-validated training set, the best performing model of mine is the **`Linear SVM`** model using word embedding dataframe on the unigram space. The model's accuracy is about 67% and the kappa score floats around 0.4.\n",
        "\n",
        "Among different implementations of Naive Bayes models, the **`Multinomial NB`** and **`Complement NB`** perform their best with small vocabulary size on bigram or trigram spaces with regular text input and without having stopwirds removed or case sensitivity; the **`Bernoulli NB`** works the best and outperform the other two with part-of-speech tags and small vocabulary size on unigram space."
      ]
    },
    {
      "cell_type": "markdown",
      "metadata": {
        "id": "yOOkWEaIdEWu",
        "colab_type": "text"
      },
      "source": [
        "# Task 3\n",
        "\n",
        "Train two models, each **trained on the full 80% training set, and tested on the held-out 20% test set**:\n",
        "   - A Naïve Bayes classifier with unigram features.\n",
        "   - The best-tuned model from task two, retrained on the full 80% training set. \n",
        "   \n",
        "Report three sets of evaluation metrics:\n",
        "   - The estimated performance from cross-validation in Task 2.\n",
        "   - The performance of the simple Naïve Bayes unigram classifier on the held-out test set.\n",
        "   - The performance of the best-tuned model on the held-out test set.\n",
        "\n",
        "At minimum, your evaluations should include percent accuracy and Kappa values."
      ]
    },
    {
      "cell_type": "markdown",
      "metadata": {
        "id": "8N07sSCR3N6z",
        "colab_type": "text"
      },
      "source": [
        "## 3.0 Preprocessing"
      ]
    },
    {
      "cell_type": "markdown",
      "metadata": {
        "id": "VoDYKwwq3YGL",
        "colab_type": "text"
      },
      "source": [
        "### redefine modeling function"
      ]
    },
    {
      "cell_type": "code",
      "metadata": {
        "id": "nBHwBrUI7UBw",
        "colab_type": "code",
        "colab": {}
      },
      "source": [
        "def held_out_test(train_set, test_set, train_x, test_x, label_column, classifiers, metrics, matrix_labels, cmatrix_show = True):\n",
        "\n",
        "  for classifier_name, classifier in classifiers.items():\n",
        "    print(f\"{classifier_name}\")\n",
        "    X_train = train_set.loc[:, train_x]\n",
        "    X_test = test_set.loc[:, test_x]\n",
        "    y_train = train_set[label_column]\n",
        "    y_test = test_set[label_column]\n",
        "\n",
        "    # train the model\n",
        "    model = classifier.fit(X_train, y_train)\n",
        "    y_pred = model.predict(X_test)\n",
        "\n",
        "    # calculate the metrics\n",
        "    for (metric_name, metric) in metrics.items():\n",
        "      result = metric(y_test, y_pred)\n",
        "      print(f\"{metric_name}: {result}\")\n",
        "    \n",
        "    # plot confusion matrix if needed\n",
        "    if cmatrix_show:\n",
        "      conf_matrix = confusion_matrix(y_test, y_pred)\n",
        "      ConfusionMatrixDisplay(conf_matrix, matrix_labels).plot(values_format='.4g',)\n",
        "      plt.show()\n",
        "    print('-'*50)"
      ],
      "execution_count": 0,
      "outputs": []
    },
    {
      "cell_type": "markdown",
      "metadata": {
        "id": "meg46hp9CpkP",
        "colab_type": "text"
      },
      "source": [
        "### define word embedding df function"
      ]
    },
    {
      "cell_type": "code",
      "metadata": {
        "id": "q7HSGp_DCowD",
        "colab_type": "code",
        "colab": {}
      },
      "source": [
        "def we_df(dataset, text_column, old_label, new_label):\n",
        "  dimensions = 300\n",
        "\n",
        "  X_dict = {\n",
        "      f\"D{i}\":[] for i in range(dimensions)\n",
        "  }\n",
        "\n",
        "  text = dataset[text_column].apply(nlp)\n",
        "  for row in text:\n",
        "      vector = row.vector\n",
        "      for i in range(len(vector)):\n",
        "          key = f\"D{i}\"\n",
        "          X_dict[key].append(vector[i])\n",
        "\n",
        "  df = pd.DataFrame(X_dict)\n",
        "  df[new_label] = dataset[old_label]\n",
        "  return df, X_dict.keys()"
      ],
      "execution_count": 0,
      "outputs": []
    },
    {
      "cell_type": "markdown",
      "metadata": {
        "id": "W1TOlD8LByhd",
        "colab_type": "text"
      },
      "source": [
        "## 3.1 Naive Bayes (bag-of-words)"
      ]
    },
    {
      "cell_type": "code",
      "metadata": {
        "id": "qviwdvOE8pmc",
        "colab_type": "code",
        "colab": {
          "base_uri": "https://localhost:8080/",
          "height": 1000
        },
        "outputId": "645c1da9-34e0-44ad-db17-71c3e383a90f"
      },
      "source": [
        "# create bag-of-words df\n",
        "train_set_bow = ngrams(training_set, 'text',\"labels_A\", \"sentiment\", vocab_size=441, max_n=1)\n",
        "train_columns = list(train_set_bow.columns[:-1])\n",
        "test_set_bow = ngrams(test_set, 'text',\"labels_A\", \"sentiment\", vocab_size=441, max_n=1)\n",
        "test_columns = list(test_set_bow.columns[:-1])\n",
        "\n",
        "# train the naive bayes models\n",
        "classifiers_nb = {\n",
        "    \"Bernoulli NB\": BernoulliNB(),\n",
        "    \"Complement NB\": ComplementNB(), \n",
        "    \"Multinomial NB\": MultinomialNB()\n",
        "}\n",
        "\n",
        "metrics_more = {\n",
        "    \"Accuracy\" : lambda y_test,y_pred: 100*accuracy_score(y_test,y_pred),\n",
        "    \"Kappa\"    : cohen_kappa_score,\n",
        "    \"Micro-Average F-Score\": lambda y_test,y_pred: f1_score(y_test,y_pred, average=\"micro\")\n",
        "}\n",
        "\n",
        "held_out_test(train_set_bow, test_set_bow, train_columns, test_columns, 'sentiment', classifiers_nb, metrics_more, matrix_labels, cmatrix_show = True)"
      ],
      "execution_count": 16,
      "outputs": [
        {
          "output_type": "stream",
          "text": [
            "Bernoulli NB\n",
            "Accuracy: 32.5\n",
            "Kappa: -0.052631578947368585\n",
            "Micro-Average F-Score: 0.325\n"
          ],
          "name": "stdout"
        },
        {
          "output_type": "display_data",
          "data": {
            "image/png": "[encoded data removed]",
            "text/plain": [
              "<Figure size 432x288 with 2 Axes>"
            ]
          },
          "metadata": {
            "tags": []
          }
        },
        {
          "output_type": "stream",
          "text": [
            "--------------------------------------------------\n",
            "Complement NB\n",
            "Accuracy: 22.5\n",
            "Kappa: -0.13970588235294112\n",
            "Micro-Average F-Score: 0.225\n"
          ],
          "name": "stdout"
        },
        {
          "output_type": "display_data",
          "data": {
            "image/png": "[encoded data removed]",
            "text/plain": [
              "<Figure size 432x288 with 2 Axes>"
            ]
          },
          "metadata": {
            "tags": []
          }
        },
        {
          "output_type": "stream",
          "text": [
            "--------------------------------------------------\n",
            "Multinomial NB\n",
            "Accuracy: 20.0\n",
            "Kappa: -0.15107913669064743\n",
            "Micro-Average F-Score: 0.20000000000000004\n"
          ],
          "name": "stdout"
        },
        {
          "output_type": "display_data",
          "data": {
            "image/png": "[encoded data removed]",
            "text/plain": [
              "<Figure size 432x288 with 2 Axes>"
            ]
          },
          "metadata": {
            "tags": []
          }
        },
        {
          "output_type": "stream",
          "text": [
            "--------------------------------------------------\n"
          ],
          "name": "stdout"
        }
      ]
    },
    {
      "cell_type": "markdown",
      "metadata": {
        "id": "eL6zWvtxFC2f",
        "colab_type": "text"
      },
      "source": [
        "Given the performances of Complement NB and Multinomial NB from cross-validation in Task 2, I estimated that the Kappa score of test set on unigram space would be at least 0.2 and 50% accuracy. But the fact slapped on my face so hard and was too cruel for me to accept with ease... The kappa score of the best implementation of Naive Bayes in this case, Bernoulli NB, is only 0.06 with 35% of accuracy. And the kappa of Complement NB is even negative with 30% accuracy, not even as good as random guess...\n",
        "\n",
        "The problem may lie with the size of the data which is clearly not big enough for Naive Bayes algorithm to capture patterns with consistency. But, still, I wonder why with extreme small sizes of data (only 16) in 10-fold cross-validation, the result is better than the held out test model. The relationship between data size and model performance may not be pure linear."
      ]
    },
    {
      "cell_type": "markdown",
      "metadata": {
        "id": "KB2V_hZpB6oA",
        "colab_type": "text"
      },
      "source": [
        "## 3.2 Best-tuned: Linear SVM (word embedding)"
      ]
    },
    {
      "cell_type": "code",
      "metadata": {
        "id": "82NF3tA4B5fD",
        "colab_type": "code",
        "colab": {
          "base_uri": "https://localhost:8080/",
          "height": 364
        },
        "outputId": "95ca5ff7-2d8b-4c16-e100-e5ed47db75eb"
      },
      "source": [
        "# create word embedding dataframes\n",
        "train_set_we, train_we_columns = we_df(training_set, 'text', 'labels_A', 'sentiment')\n",
        "test_set_we, test_we_columns = we_df(test_set, 'text', 'labels_A', 'sentiment')\n",
        "\n",
        "best_classifier = {\n",
        "    \"Linear SVM\": LinearSVC()\n",
        "}\n",
        "\n",
        "held_out_test(train_set_we, test_set_we, train_we_columns, test_we_columns, 'sentiment', best_classifier, metrics_more, matrix_labels, cmatrix_show = True)"
      ],
      "execution_count": 17,
      "outputs": [
        {
          "output_type": "stream",
          "text": [
            "Linear SVM\n",
            "Accuracy: 55.00000000000001\n",
            "Kappa: 0.26530612244897955\n",
            "Micro-Average F-Score: 0.55\n"
          ],
          "name": "stdout"
        },
        {
          "output_type": "display_data",
          "data": {
            "image/png": "[encoded data removed]",
            "text/plain": [
              "<Figure size 432x288 with 2 Axes>"
            ]
          },
          "metadata": {
            "tags": []
          }
        },
        {
          "output_type": "stream",
          "text": [
            "--------------------------------------------------\n"
          ],
          "name": "stdout"
        }
      ]
    },
    {
      "cell_type": "markdown",
      "metadata": {
        "id": "SmwHT0nKILcS",
        "colab_type": "text"
      },
      "source": [
        "I estimated the results of Linear SVM to be around 60% of accuracy and at least 0.35 kappa. The 60% accuracy of the actual model aligned with my estimation, while the kappa score is only about 0.17. Although the results is not as good as expected, the Linear SVM model still outperformed Naive Bayes model by 0.16 kappa score."
      ]
    },
    {
      "cell_type": "markdown",
      "metadata": {
        "id": "5kAeQwVbKKKu",
        "colab_type": "text"
      },
      "source": [
        "## 3.3 Extra: labels_B"
      ]
    },
    {
      "cell_type": "code",
      "metadata": {
        "id": "KQvY3Dk6QLIk",
        "colab_type": "code",
        "colab": {}
      },
      "source": [
        "# get unigram bag-of-word and word-embedding dataframes\n",
        "unigram_training_bow_b = ngrams(training_set, 'text',\"labels_B\", \"sentiment\", vocab_size = 1000, max_n=1)\n",
        "train_set_we_b, train_we_columns_b = we_df(training_set, 'text', 'labels_B', 'sentiment')\n",
        "\n",
        "from scipy import stats\n",
        "from scipy.stats import ttest_ind\n",
        "from scipy.stats import pearsonr\n",
        "\n",
        "# define t-test function\n",
        "def p_value(results_a,results_b):\n",
        "  diff = False\n",
        "  stat, p = ttest_ind(results_a,results_b)\n",
        "  if p < 0.05:\n",
        "    diff = True\n",
        "  print(f\"Significantly different? {diff}, p={p:.5f}\")"
      ],
      "execution_count": 0,
      "outputs": []
    },
    {
      "cell_type": "markdown",
      "metadata": {
        "id": "rtTQOyD_QA92",
        "colab_type": "text"
      },
      "source": [
        "#### 3.3.1 Compare classifiers"
      ]
    },
    {
      "cell_type": "code",
      "metadata": {
        "id": "Q2aMEeIUKJvK",
        "colab_type": "code",
        "colab": {
          "base_uri": "https://localhost:8080/",
          "height": 328
        },
        "outputId": "7321eb00-2373-4655-cc98-17cb931b6943"
      },
      "source": [
        "# re-use the code from Task2.1\n",
        "x_columns = list(unigram_training_bow_b.columns[:-1])\n",
        "classifier_comparison_b_1 = k_folds_model(unigram_training_bow_b, x_columns, 'sentiment', classifiers_bow, metrics, 10, matrix_labels, False)\n",
        "classifier_comparison_b_2 = k_folds_model(train_set_we_b, train_we_columns_b, 'sentiment', classifiers_we, metrics, 10, matrix_labels, False)\n",
        "classifier_comparison_b = pd.concat([classifier_comparison_b_1,classifier_comparison_b_2])\n",
        "classifier_average_b = classifier_comparison_b.groupby('Classifier')['Accuracy','Kappa'].mean()\n",
        "\n",
        "# join the A classifier outcome table and B\n",
        "a_b_compare = classifier_average.merge(classifier_average_b,on='Classifier',suffixes=('_a','_b'))\n",
        "a_b_compare.sort_values(by='Kappa_b',ascending=False,inplace=True)\n",
        "a_b_compare"
      ],
      "execution_count": 19,
      "outputs": [
        {
          "output_type": "execute_result",
          "data": {
            "text/html": [
              "<div>\n",
              "<style scoped>\n",
              "    .dataframe tbody tr th:only-of-type {\n",
              "        vertical-align: middle;\n",
              "    }\n",
              "\n",
              "    .dataframe tbody tr th {\n",
              "        vertical-align: top;\n",
              "    }\n",
              "\n",
              "    .dataframe thead th {\n",
              "        text-align: right;\n",
              "    }\n",
              "</style>\n",
              "<table border=\"1\" class=\"dataframe\">\n",
              "  <thead>\n",
              "    <tr style=\"text-align: right;\">\n",
              "      <th></th>\n",
              "      <th>Accuracy_a</th>\n",
              "      <th>Kappa_a</th>\n",
              "      <th>Accuracy_b</th>\n",
              "      <th>Kappa_b</th>\n",
              "    </tr>\n",
              "    <tr>\n",
              "      <th>Classifier</th>\n",
              "      <th></th>\n",
              "      <th></th>\n",
              "      <th></th>\n",
              "      <th></th>\n",
              "    </tr>\n",
              "  </thead>\n",
              "  <tbody>\n",
              "    <tr>\n",
              "      <th>Linear SVM</th>\n",
              "      <td>67.500</td>\n",
              "      <td>0.333663</td>\n",
              "      <td>55.625</td>\n",
              "      <td>0.221466</td>\n",
              "    </tr>\n",
              "    <tr>\n",
              "      <th>Decision Tree</th>\n",
              "      <td>46.250</td>\n",
              "      <td>-0.003157</td>\n",
              "      <td>50.000</td>\n",
              "      <td>0.135393</td>\n",
              "    </tr>\n",
              "    <tr>\n",
              "      <th>Multinomial NB</th>\n",
              "      <td>59.375</td>\n",
              "      <td>0.231488</td>\n",
              "      <td>50.000</td>\n",
              "      <td>0.094020</td>\n",
              "    </tr>\n",
              "    <tr>\n",
              "      <th>Complement NB</th>\n",
              "      <td>55.625</td>\n",
              "      <td>0.196368</td>\n",
              "      <td>41.250</td>\n",
              "      <td>0.048803</td>\n",
              "    </tr>\n",
              "    <tr>\n",
              "      <th>RBF SVM</th>\n",
              "      <td>60.625</td>\n",
              "      <td>0.022330</td>\n",
              "      <td>55.000</td>\n",
              "      <td>0.000000</td>\n",
              "    </tr>\n",
              "    <tr>\n",
              "      <th>Bernoulli NB</th>\n",
              "      <td>60.000</td>\n",
              "      <td>0.000000</td>\n",
              "      <td>54.375</td>\n",
              "      <td>-0.007563</td>\n",
              "    </tr>\n",
              "    <tr>\n",
              "      <th>Logistic Regression</th>\n",
              "      <td>57.500</td>\n",
              "      <td>0.157820</td>\n",
              "      <td>43.125</td>\n",
              "      <td>-0.008101</td>\n",
              "    </tr>\n",
              "    <tr>\n",
              "      <th>Poly SVM</th>\n",
              "      <td>62.500</td>\n",
              "      <td>0.109637</td>\n",
              "      <td>53.125</td>\n",
              "      <td>-0.010149</td>\n",
              "    </tr>\n",
              "  </tbody>\n",
              "</table>\n",
              "</div>"
            ],
            "text/plain": [
              "                     Accuracy_a   Kappa_a  Accuracy_b   Kappa_b\n",
              "Classifier                                                     \n",
              "Linear SVM               67.500  0.333663      55.625  0.221466\n",
              "Decision Tree            46.250 -0.003157      50.000  0.135393\n",
              "Multinomial NB           59.375  0.231488      50.000  0.094020\n",
              "Complement NB            55.625  0.196368      41.250  0.048803\n",
              "RBF SVM                  60.625  0.022330      55.000  0.000000\n",
              "Bernoulli NB             60.000  0.000000      54.375 -0.007563\n",
              "Logistic Regression      57.500  0.157820      43.125 -0.008101\n",
              "Poly SVM                 62.500  0.109637      53.125 -0.010149"
            ]
          },
          "metadata": {
            "tags": []
          },
          "execution_count": 19
        }
      ]
    },
    {
      "cell_type": "code",
      "metadata": {
        "id": "Gild5zcJWs0M",
        "colab_type": "code",
        "colab": {
          "base_uri": "https://localhost:8080/",
          "height": 34
        },
        "outputId": "675d2f9c-058a-4e06-a46b-151324ddba1f"
      },
      "source": [
        "p_value(a_b_compare['Kappa_a'],a_b_compare['Kappa_b'])"
      ],
      "execution_count": 20,
      "outputs": [
        {
          "output_type": "stream",
          "text": [
            "Significantly different? False, p=0.19307\n"
          ],
          "name": "stdout"
        }
      ]
    },
    {
      "cell_type": "markdown",
      "metadata": {
        "id": "J9lAOcfbTb6A",
        "colab_type": "text"
      },
      "source": [
        "#### 3.3.2 N-gram and Vocabulary Size"
      ]
    },
    {
      "cell_type": "code",
      "metadata": {
        "id": "0djJXPYzTIPk",
        "colab_type": "code",
        "colab": {
          "base_uri": "https://localhost:8080/",
          "height": 390
        },
        "outputId": "b6345141-2000-4255-d771-e6122d8785e1"
      },
      "source": [
        "ngrams_results_b = pd.DataFrame()\n",
        "\n",
        "# try unigram, bigram and trigram\n",
        "for i in range(1,4):\n",
        "  if i == 1:\n",
        "    vocab_list = [500,1000]\n",
        "  elif i == 2:\n",
        "    vocab_list = [500,1000,1270]\n",
        "  else:\n",
        "    vocab_list = [500,1000,1270,3809]\n",
        "\n",
        "  for vocab_size in vocab_list:\n",
        "    ngrams_bow_b = ngrams(training_set, 'text',\"labels_B\", \"sentiment\", vocab_size, max_n=i)\n",
        "    columns = list(ngrams_bow_b.columns[:-1])\n",
        "    ngrams_result_b = k_folds_model(ngrams_bow_b, columns, 'sentiment', classifiers_bow, metrics, 10, matrix_labels, False)\n",
        "    ngrams_result_b['ngram'] = i\n",
        "    ngrams_result_b['vocab_size'] = vocab_size\n",
        "\n",
        "    # put the results together\n",
        "    ngrams_results_b = pd.concat([ngrams_results_b,ngrams_result_b])\n",
        "\n",
        "\n",
        "# calculate the average metrics of different ngram classifiers\n",
        "ngrams_average_b = ngrams_results_b.groupby(['Classifier','ngram','vocab_size'])['Accuracy','Kappa'].mean()\n",
        "a_b_ngrams = ngrams_average.merge(ngrams_average_b,on=['Classifier','ngram','vocab_size'],suffixes=('_a','_b'))\n",
        "a_b_ngrams.sort_values(by='Kappa_b',ascending=False,inplace=True)\n",
        "a_b_ngrams.head(10)"
      ],
      "execution_count": 21,
      "outputs": [
        {
          "output_type": "execute_result",
          "data": {
            "text/html": [
              "<div>\n",
              "<style scoped>\n",
              "    .dataframe tbody tr th:only-of-type {\n",
              "        vertical-align: middle;\n",
              "    }\n",
              "\n",
              "    .dataframe tbody tr th {\n",
              "        vertical-align: top;\n",
              "    }\n",
              "\n",
              "    .dataframe thead th {\n",
              "        text-align: right;\n",
              "    }\n",
              "</style>\n",
              "<table border=\"1\" class=\"dataframe\">\n",
              "  <thead>\n",
              "    <tr style=\"text-align: right;\">\n",
              "      <th></th>\n",
              "      <th></th>\n",
              "      <th></th>\n",
              "      <th>Accuracy_a</th>\n",
              "      <th>Kappa_a</th>\n",
              "      <th>Accuracy_b</th>\n",
              "      <th>Kappa_b</th>\n",
              "    </tr>\n",
              "    <tr>\n",
              "      <th>Classifier</th>\n",
              "      <th>ngram</th>\n",
              "      <th>vocab_size</th>\n",
              "      <th></th>\n",
              "      <th></th>\n",
              "      <th></th>\n",
              "      <th></th>\n",
              "    </tr>\n",
              "  </thead>\n",
              "  <tbody>\n",
              "    <tr>\n",
              "      <th>Decision Tree</th>\n",
              "      <th>2</th>\n",
              "      <th>500</th>\n",
              "      <td>40.000</td>\n",
              "      <td>-0.050965</td>\n",
              "      <td>47.500</td>\n",
              "      <td>0.125002</td>\n",
              "    </tr>\n",
              "    <tr>\n",
              "      <th rowspan=\"2\" valign=\"top\">Multinomial NB</th>\n",
              "      <th rowspan=\"2\" valign=\"top\">2</th>\n",
              "      <th>1000</th>\n",
              "      <td>58.125</td>\n",
              "      <td>0.210713</td>\n",
              "      <td>48.125</td>\n",
              "      <td>0.119467</td>\n",
              "    </tr>\n",
              "    <tr>\n",
              "      <th>500</th>\n",
              "      <td>58.750</td>\n",
              "      <td>0.269292</td>\n",
              "      <td>46.250</td>\n",
              "      <td>0.115367</td>\n",
              "    </tr>\n",
              "    <tr>\n",
              "      <th>Decision Tree</th>\n",
              "      <th>3</th>\n",
              "      <th>3809</th>\n",
              "      <td>46.250</td>\n",
              "      <td>0.063181</td>\n",
              "      <td>49.375</td>\n",
              "      <td>0.113829</td>\n",
              "    </tr>\n",
              "    <tr>\n",
              "      <th rowspan=\"2\" valign=\"top\">Multinomial NB</th>\n",
              "      <th rowspan=\"2\" valign=\"top\">1</th>\n",
              "      <th>1000</th>\n",
              "      <td>60.625</td>\n",
              "      <td>0.212499</td>\n",
              "      <td>51.875</td>\n",
              "      <td>0.111741</td>\n",
              "    </tr>\n",
              "    <tr>\n",
              "      <th>500</th>\n",
              "      <td>56.875</td>\n",
              "      <td>0.155808</td>\n",
              "      <td>50.000</td>\n",
              "      <td>0.111639</td>\n",
              "    </tr>\n",
              "    <tr>\n",
              "      <th rowspan=\"2\" valign=\"top\">Decision Tree</th>\n",
              "      <th>3</th>\n",
              "      <th>500</th>\n",
              "      <td>41.250</td>\n",
              "      <td>-0.008244</td>\n",
              "      <td>47.500</td>\n",
              "      <td>0.107365</td>\n",
              "    </tr>\n",
              "    <tr>\n",
              "      <th>2</th>\n",
              "      <th>1270</th>\n",
              "      <td>46.250</td>\n",
              "      <td>0.011217</td>\n",
              "      <td>50.000</td>\n",
              "      <td>0.097303</td>\n",
              "    </tr>\n",
              "    <tr>\n",
              "      <th>Complement NB</th>\n",
              "      <th>3</th>\n",
              "      <th>3809</th>\n",
              "      <td>38.750</td>\n",
              "      <td>0.113954</td>\n",
              "      <td>38.750</td>\n",
              "      <td>0.087853</td>\n",
              "    </tr>\n",
              "    <tr>\n",
              "      <th>Decision Tree</th>\n",
              "      <th>2</th>\n",
              "      <th>1000</th>\n",
              "      <td>43.125</td>\n",
              "      <td>-0.017379</td>\n",
              "      <td>45.000</td>\n",
              "      <td>0.084027</td>\n",
              "    </tr>\n",
              "  </tbody>\n",
              "</table>\n",
              "</div>"
            ],
            "text/plain": [
              "                                 Accuracy_a   Kappa_a  Accuracy_b   Kappa_b\n",
              "Classifier     ngram vocab_size                                            \n",
              "Decision Tree  2     500             40.000 -0.050965      47.500  0.125002\n",
              "Multinomial NB 2     1000            58.125  0.210713      48.125  0.119467\n",
              "                     500             58.750  0.269292      46.250  0.115367\n",
              "Decision Tree  3     3809            46.250  0.063181      49.375  0.113829\n",
              "Multinomial NB 1     1000            60.625  0.212499      51.875  0.111741\n",
              "                     500             56.875  0.155808      50.000  0.111639\n",
              "Decision Tree  3     500             41.250 -0.008244      47.500  0.107365\n",
              "               2     1270            46.250  0.011217      50.000  0.097303\n",
              "Complement NB  3     3809            38.750  0.113954      38.750  0.087853\n",
              "Decision Tree  2     1000            43.125 -0.017379      45.000  0.084027"
            ]
          },
          "metadata": {
            "tags": []
          },
          "execution_count": 21
        }
      ]
    },
    {
      "cell_type": "code",
      "metadata": {
        "id": "J7_uMTtjYY-C",
        "colab_type": "code",
        "colab": {
          "base_uri": "https://localhost:8080/",
          "height": 34
        },
        "outputId": "a8392e30-90fb-480d-e625-4db835fdc5ec"
      },
      "source": [
        "p_value(a_b_ngrams['Kappa_a'],a_b_ngrams['Kappa_b'])"
      ],
      "execution_count": 22,
      "outputs": [
        {
          "output_type": "stream",
          "text": [
            "Significantly different? True, p=0.00000\n"
          ],
          "name": "stdout"
        }
      ]
    },
    {
      "cell_type": "markdown",
      "metadata": {
        "id": "xZ6zoJtgagjD",
        "colab_type": "text"
      },
      "source": [
        "#### 3.3.3 N-gram Part of Speech"
      ]
    },
    {
      "cell_type": "code",
      "metadata": {
        "id": "deeBbowsakmq",
        "colab_type": "code",
        "colab": {
          "base_uri": "https://localhost:8080/",
          "height": 390
        },
        "outputId": "409a51c7-c8d1-499e-97be-451ea6543b5f"
      },
      "source": [
        "ngrams_results = pd.DataFrame()\n",
        "for i in range(1,4):\n",
        "\n",
        "  ngrams_bow = ngrams(training_set_pos, 'part_of_speech',\"labels_A\", \"sentiment\", vocab_size=38, max_n=i)\n",
        "  columns = list(ngrams_bow.columns[:-1])\n",
        "  ngrams_result = k_folds_model(ngrams_bow, columns, 'sentiment', classifiers_bow, metrics, 10, matrix_labels, False)\n",
        "  ngrams_result['ngram'] = i\n",
        "  ngrams_results = pd.concat([ngrams_results,ngrams_result],sort=True)\n",
        "\n",
        "ngrams_average_p_b = ngrams_results.groupby(['Classifier','ngram'])['Accuracy','Kappa'].mean()\n",
        "a_b_pos = ngrams_average_p.merge(ngrams_average_p_b,on=['Classifier','ngram'],suffixes=('_a','_b'))\n",
        "a_b_pos.sort_values(by='Kappa_b',ascending=False,inplace=True)\n",
        "a_b_pos.head(10)"
      ],
      "execution_count": 24,
      "outputs": [
        {
          "output_type": "execute_result",
          "data": {
            "text/html": [
              "<div>\n",
              "<style scoped>\n",
              "    .dataframe tbody tr th:only-of-type {\n",
              "        vertical-align: middle;\n",
              "    }\n",
              "\n",
              "    .dataframe tbody tr th {\n",
              "        vertical-align: top;\n",
              "    }\n",
              "\n",
              "    .dataframe thead th {\n",
              "        text-align: right;\n",
              "    }\n",
              "</style>\n",
              "<table border=\"1\" class=\"dataframe\">\n",
              "  <thead>\n",
              "    <tr style=\"text-align: right;\">\n",
              "      <th></th>\n",
              "      <th></th>\n",
              "      <th>Accuracy_a</th>\n",
              "      <th>Kappa_a</th>\n",
              "      <th>Accuracy_b</th>\n",
              "      <th>Kappa_b</th>\n",
              "    </tr>\n",
              "    <tr>\n",
              "      <th>Classifier</th>\n",
              "      <th>ngram</th>\n",
              "      <th></th>\n",
              "      <th></th>\n",
              "      <th></th>\n",
              "      <th></th>\n",
              "    </tr>\n",
              "  </thead>\n",
              "  <tbody>\n",
              "    <tr>\n",
              "      <th rowspan=\"2\" valign=\"top\">Bernoulli NB</th>\n",
              "      <th>1</th>\n",
              "      <td>61.250</td>\n",
              "      <td>0.260103</td>\n",
              "      <td>58.125</td>\n",
              "      <td>0.203512</td>\n",
              "    </tr>\n",
              "    <tr>\n",
              "      <th>3</th>\n",
              "      <td>53.125</td>\n",
              "      <td>0.146315</td>\n",
              "      <td>53.750</td>\n",
              "      <td>0.171828</td>\n",
              "    </tr>\n",
              "    <tr>\n",
              "      <th>Logistic Regression</th>\n",
              "      <th>2</th>\n",
              "      <td>50.625</td>\n",
              "      <td>0.115223</td>\n",
              "      <td>53.125</td>\n",
              "      <td>0.152480</td>\n",
              "    </tr>\n",
              "    <tr>\n",
              "      <th rowspan=\"2\" valign=\"top\">Complement NB</th>\n",
              "      <th>2</th>\n",
              "      <td>43.125</td>\n",
              "      <td>0.131897</td>\n",
              "      <td>43.750</td>\n",
              "      <td>0.128225</td>\n",
              "    </tr>\n",
              "    <tr>\n",
              "      <th>1</th>\n",
              "      <td>46.875</td>\n",
              "      <td>0.117765</td>\n",
              "      <td>46.875</td>\n",
              "      <td>0.126904</td>\n",
              "    </tr>\n",
              "    <tr>\n",
              "      <th>Multinomial NB</th>\n",
              "      <th>2</th>\n",
              "      <td>48.750</td>\n",
              "      <td>0.069488</td>\n",
              "      <td>50.000</td>\n",
              "      <td>0.123656</td>\n",
              "    </tr>\n",
              "    <tr>\n",
              "      <th>Logistic Regression</th>\n",
              "      <th>1</th>\n",
              "      <td>48.125</td>\n",
              "      <td>0.020182</td>\n",
              "      <td>52.500</td>\n",
              "      <td>0.123407</td>\n",
              "    </tr>\n",
              "    <tr>\n",
              "      <th>Complement NB</th>\n",
              "      <th>3</th>\n",
              "      <td>46.250</td>\n",
              "      <td>0.131702</td>\n",
              "      <td>45.000</td>\n",
              "      <td>0.122912</td>\n",
              "    </tr>\n",
              "    <tr>\n",
              "      <th>Decision Tree</th>\n",
              "      <th>3</th>\n",
              "      <td>44.375</td>\n",
              "      <td>-0.010780</td>\n",
              "      <td>51.875</td>\n",
              "      <td>0.119353</td>\n",
              "    </tr>\n",
              "    <tr>\n",
              "      <th>Multinomial NB</th>\n",
              "      <th>1</th>\n",
              "      <td>55.000</td>\n",
              "      <td>0.114204</td>\n",
              "      <td>52.500</td>\n",
              "      <td>0.093277</td>\n",
              "    </tr>\n",
              "  </tbody>\n",
              "</table>\n",
              "</div>"
            ],
            "text/plain": [
              "                           Accuracy_a   Kappa_a  Accuracy_b   Kappa_b\n",
              "Classifier          ngram                                            \n",
              "Bernoulli NB        1          61.250  0.260103      58.125  0.203512\n",
              "                    3          53.125  0.146315      53.750  0.171828\n",
              "Logistic Regression 2          50.625  0.115223      53.125  0.152480\n",
              "Complement NB       2          43.125  0.131897      43.750  0.128225\n",
              "                    1          46.875  0.117765      46.875  0.126904\n",
              "Multinomial NB      2          48.750  0.069488      50.000  0.123656\n",
              "Logistic Regression 1          48.125  0.020182      52.500  0.123407\n",
              "Complement NB       3          46.250  0.131702      45.000  0.122912\n",
              "Decision Tree       3          44.375 -0.010780      51.875  0.119353\n",
              "Multinomial NB      1          55.000  0.114204      52.500  0.093277"
            ]
          },
          "metadata": {
            "tags": []
          },
          "execution_count": 24
        }
      ]
    },
    {
      "cell_type": "code",
      "metadata": {
        "id": "M_ClZCR9b_qv",
        "colab_type": "code",
        "colab": {
          "base_uri": "https://localhost:8080/",
          "height": 34
        },
        "outputId": "3a2e62f8-a259-48c1-c30d-f69347d31531"
      },
      "source": [
        "p_value(a_b_pos['Kappa_a'],a_b_pos['Kappa_b'])"
      ],
      "execution_count": 25,
      "outputs": [
        {
          "output_type": "stream",
          "text": [
            "Significantly different? False, p=0.79133\n"
          ],
          "name": "stdout"
        }
      ]
    },
    {
      "cell_type": "markdown",
      "metadata": {
        "id": "4qcBBmqDcztk",
        "colab_type": "text"
      },
      "source": [
        "#### 3.3.4 Held out test: NB"
      ]
    },
    {
      "cell_type": "code",
      "metadata": {
        "id": "8uzn-moGdFHI",
        "colab_type": "code",
        "colab": {
          "base_uri": "https://localhost:8080/",
          "height": 1000
        },
        "outputId": "5634182c-31fa-4e88-e624-03c12992d762"
      },
      "source": [
        "train_set_bow_b = ngrams(training_set, 'text',\"labels_B\", \"sentiment\", vocab_size=441, max_n=1)\n",
        "train_columns_b = list(train_set_bow_b.columns[:-1])\n",
        "test_set_bow_b = ngrams(test_set, 'text',\"labels_B\", \"sentiment\", vocab_size=441, max_n=1)\n",
        "test_columns_b = list(test_set_bow_b.columns[:-1])\n",
        "\n",
        "held_out_test(train_set_bow_b, test_set_bow_b, train_columns_b, test_columns_b, 'sentiment', classifiers_nb, metrics_more, matrix_labels, cmatrix_show = True)"
      ],
      "execution_count": 26,
      "outputs": [
        {
          "output_type": "stream",
          "text": [
            "Bernoulli NB\n",
            "Accuracy: 35.0\n",
            "Kappa: -0.009708737864077666\n",
            "Micro-Average F-Score: 0.35\n"
          ],
          "name": "stdout"
        },
        {
          "output_type": "display_data",
          "data": {
            "image/png": "[encoded data removed]",
            "text/plain": [
              "<Figure size 432x288 with 2 Axes>"
            ]
          },
          "metadata": {
            "tags": []
          }
        },
        {
          "output_type": "stream",
          "text": [
            "--------------------------------------------------\n",
            "Complement NB\n",
            "Accuracy: 25.0\n",
            "Kappa: -0.09090909090909083\n",
            "Micro-Average F-Score: 0.25\n"
          ],
          "name": "stdout"
        },
        {
          "output_type": "display_data",
          "data": {
            "image/png": "[encoded data removed]",
            "text/plain": [
              "<Figure size 432x288 with 2 Axes>"
            ]
          },
          "metadata": {
            "tags": []
          }
        },
        {
          "output_type": "stream",
          "text": [
            "--------------------------------------------------\n",
            "Multinomial NB\n",
            "Accuracy: 40.0\n",
            "Kappa: 0.12727272727272732\n",
            "Micro-Average F-Score: 0.4000000000000001\n"
          ],
          "name": "stdout"
        },
        {
          "output_type": "display_data",
          "data": {
            "image/png": "[encoded data removed]",
            "text/plain": [
              "<Figure size 432x288 with 2 Axes>"
            ]
          },
          "metadata": {
            "tags": []
          }
        },
        {
          "output_type": "stream",
          "text": [
            "--------------------------------------------------\n"
          ],
          "name": "stdout"
        }
      ]
    },
    {
      "cell_type": "code",
      "metadata": {
        "id": "SqIveR0qdaFh",
        "colab_type": "code",
        "colab": {
          "base_uri": "https://localhost:8080/",
          "height": 34
        },
        "outputId": "d501a864-df17-477a-e2d6-cc81d9627864"
      },
      "source": [
        "# input kappa score by hand\n",
        "p_value([0.06391,-0.0438,0.02524],[-0.1545,-0.06073,-0.13565])"
      ],
      "execution_count": 27,
      "outputs": [
        {
          "output_type": "stream",
          "text": [
            "Significantly different? True, p=0.03614\n"
          ],
          "name": "stdout"
        }
      ]
    },
    {
      "cell_type": "markdown",
      "metadata": {
        "id": "uXZpIMwocU8l",
        "colab_type": "text"
      },
      "source": [
        "#### 3.3.5 Held out test: Best-tuned (Linear SVM)"
      ]
    },
    {
      "cell_type": "code",
      "metadata": {
        "id": "Ym6vXWdXcUhi",
        "colab_type": "code",
        "colab": {
          "base_uri": "https://localhost:8080/",
          "height": 364
        },
        "outputId": "9b9c410d-9013-4e5c-9494-b4c156b9b92b"
      },
      "source": [
        "train_set_we_b, train_we_columns_b = we_df(training_set, 'text', 'labels_B', 'sentiment')\n",
        "test_set_we_b, test_we_columns_b = we_df(test_set, 'text', 'labels_B', 'sentiment')\n",
        "\n",
        "held_out_test(train_set_we_b, test_set_we_b, train_we_columns_b, test_we_columns_b, 'sentiment', best_classifier, metrics_more, matrix_labels, cmatrix_show = True)"
      ],
      "execution_count": 28,
      "outputs": [
        {
          "output_type": "stream",
          "text": [
            "Linear SVM\n",
            "Accuracy: 55.00000000000001\n",
            "Kappa: 0.26530612244897955\n",
            "Micro-Average F-Score: 0.55\n"
          ],
          "name": "stdout"
        },
        {
          "output_type": "display_data",
          "data": {
            "image/png": "[encoded data removed]",
            "text/plain": [
              "<Figure size 432x288 with 2 Axes>"
            ]
          },
          "metadata": {
            "tags": []
          }
        },
        {
          "output_type": "stream",
          "text": [
            "--------------------------------------------------\n"
          ],
          "name": "stdout"
        }
      ]
    },
    {
      "cell_type": "code",
      "metadata": {
        "id": "zrrBTdtveP89",
        "colab_type": "code",
        "colab": {
          "base_uri": "https://localhost:8080/",
          "height": 102
        },
        "outputId": "42369555-13bd-413b-b624-7f8e8a502b66"
      },
      "source": [
        "# input kappa score by hand\n",
        "p_value(0.1677503250975293, 0.23444976076555024)"
      ],
      "execution_count": 29,
      "outputs": [
        {
          "output_type": "stream",
          "text": [
            "Significantly different? False, p=nan\n"
          ],
          "name": "stdout"
        },
        {
          "output_type": "stream",
          "text": [
            "/usr/local/lib/python3.6/dist-packages/numpy/core/fromnumeric.py:3506: RuntimeWarning: Degrees of freedom <= 0 for slice\n",
            "  **kwargs)\n",
            "/usr/local/lib/python3.6/dist-packages/numpy/core/_methods.py:209: RuntimeWarning: invalid value encountered in double_scalars\n",
            "  ret = ret.dtype.type(ret / rcount)\n"
          ],
          "name": "stderr"
        }
      ]
    },
    {
      "cell_type": "markdown",
      "metadata": {
        "id": "mEAsRrsMelZ_",
        "colab_type": "text"
      },
      "source": [
        "#### 3.3.6 Conclusion\n",
        "Among my tests between labels_A and labels_B, the results showed statistic significance for models with varying length of n-grams and vocabulary size with p-value being 0.002 rejecting the null hypothesis of no difference. For the B labels, the classifier of Decision Tree performed surprisingly and significantly well on bigram and trigram spaces with small vocabulary size compared to A labels. Other than that, the 10-fold model quality metrics didn't show significant difference between models trained with labels_A or labels_B.\n",
        "\n",
        "With held-out test set, however, labels_A Naive Bayes models performed significantl better than labels_B models with 0.03614 p-value; labels_B best-tuned Linear SVM models outperformed labels_A's while the data size was not big enough to conduct t-test."
      ]
    },
    {
      "cell_type": "markdown",
      "metadata": {
        "id": "K-nzeiXvm05T",
        "colab_type": "text"
      },
      "source": [
        "# Extra Credit\n",
        "\n",
        "For up to 3 points of extra credit:\n",
        "   - Perform five of the optimizations above instead of three.\n",
        "\n",
        "For up to 3 points of extra credit:\n",
        "   - Re-run the same set of code above but on `labels_B` instead of `labels_A`. Choose a new set of optimized hyperparameters and features based on these results. How do the chosen models differ, and are the model quality metrics different between the two columns in a statistically significant way?"
      ]
    },
    {
      "cell_type": "markdown",
      "metadata": {
        "id": "_2upx-ygRKE-",
        "colab_type": "text"
      },
      "source": [
        "\n",
        "# Scoring Rubric\n",
        "![](https://drive.google.com/uc?export=view&id=1JqI8Tfmi3YrnjVdDxjwNu1ZOuOOgQCuI)\n",
        "\n",
        "![](https://drive.google.com/uc?export=view&id=1VfVuKGmNBu6oJgXBTX4YB6Lxe_0t9cWN)"
      ]
    }
  ]
}